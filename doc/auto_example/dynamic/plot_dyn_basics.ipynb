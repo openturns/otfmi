{
  "cells": [
    {
      "cell_type": "code",
      "execution_count": null,
      "metadata": {
        "collapsed": false
      },
      "outputs": [],
      "source": [
        "%matplotlib inline"
      ]
    },
    {
      "cell_type": "markdown",
      "metadata": {},
      "source": [
        "\n# FMUPointToFieldFunction basics\n"
      ]
    },
    {
      "cell_type": "markdown",
      "metadata": {},
      "source": [
        "``otfmi.FMUPointToFieldFunction`` wraps the FMU into an OpenTURNS\n`PointToFieldFunction <http://shorturl.at/abtDU>`_ object.\nThis kind of function accepts `Points <http://shorturl.at/mEI46>`_ or\n`Samples <http://shorturl.at/kmpqN>`_ as inputs, and outputs a\n`Sample <http://shorturl.at/kmpqN>`_ or a set of\n`Fields <http://shorturl.at/ptDKW>`_.\n\n"
      ]
    },
    {
      "cell_type": "markdown",
      "metadata": {},
      "source": [
        "------------\n\n"
      ]
    },
    {
      "cell_type": "markdown",
      "metadata": {},
      "source": [
        "| First, retrieve the path to *epid.fmu*.\nRecall the deviation model is dynamic, i.e. its output evolves over\ntime.\n\n"
      ]
    },
    {
      "cell_type": "code",
      "execution_count": null,
      "metadata": {
        "collapsed": false
      },
      "outputs": [],
      "source": [
        "import otfmi.example.utility\npath_fmu = otfmi.example.utility.get_path_fmu(\"epid\")"
      ]
    },
    {
      "cell_type": "markdown",
      "metadata": {},
      "source": [
        "Define the time grid for the FMU's output. The last value of the time grid,\nhere 10., will define the FMU stop time for simulation.\n\n"
      ]
    },
    {
      "cell_type": "code",
      "execution_count": null,
      "metadata": {
        "collapsed": false
      },
      "outputs": [],
      "source": [
        "import openturns as ot\nmesh = ot.RegularGrid(0.0, 0.1, 100)  \nmeshSample = mesh.getVertices()\nprint(meshSample)"
      ]
    },
    {
      "cell_type": "markdown",
      "metadata": {},
      "source": [
        "<div class=\"alert alert-info\"><h4>Note</h4><p></p></div>\nThe FMU solver uses its own time grid for simulation. \nThe FMU output is then interpolated on the user-provided time grid. \n\n"
      ]
    },
    {
      "cell_type": "markdown",
      "metadata": {},
      "source": [
        "Wrap the FMU in an OpenTURNS' PointToFieldFunction object:\n\n"
      ]
    },
    {
      "cell_type": "code",
      "execution_count": null,
      "metadata": {
        "collapsed": false
      },
      "outputs": [],
      "source": [
        "function = otfmi.FMUPointToFieldFunction(\n    mesh,\n    path_fmu,\n    inputs_fmu=[\"infection_rate\"],\n    outputs_fmu=[\"infected\"],\n    start_time=0.0,\n    final_time=10.0)\nprint(type(function))"
      ]
    },
    {
      "cell_type": "markdown",
      "metadata": {},
      "source": [
        "<div class=\"alert alert-info\"><h4>Note</h4><p>The start and final times must define an interval comprising the mesh.\n   Setting manually the start and final times is recommended to avoid\n   uncontrolled simulation duration.</p></div>\n\n"
      ]
    },
    {
      "cell_type": "markdown",
      "metadata": {},
      "source": [
        "Simulate the function on an input Point yields an output Sample, corresponding\nto the output evolution over time:\n\n"
      ]
    },
    {
      "cell_type": "code",
      "execution_count": null,
      "metadata": {
        "collapsed": false
      },
      "outputs": [],
      "source": [
        "inputPoint = ot.Point([0.007])\noutputSample = function(inputPoint)\n\nimport matplotlib.pyplot as plt\nplt.xlabel(\"FMU simulation time (s)\")\nplt.ylabel(\"Number of Infected\")\nplt.plot(meshSample, outputSample)\nplt.show()"
      ]
    },
    {
      "cell_type": "markdown",
      "metadata": {},
      "source": [
        "Simulate the function on a input Sample yields a set of Fields,\ncalled `ProcessSample <http://shorturl.at/auCM6>`_:\n\n"
      ]
    },
    {
      "cell_type": "code",
      "execution_count": null,
      "metadata": {
        "collapsed": false
      },
      "outputs": [],
      "source": [
        "inputSample = ot.Sample(\n    [[0.007],\n    [0.005],\n    [0.003]])\noutputProcessSample = function(inputSample)\nprint(outputProcessSample)"
      ]
    },
    {
      "cell_type": "markdown",
      "metadata": {},
      "source": [
        "Visualize the time evolution of the ``infected`` over time, depending on the\n`\u00ecnfection_rate`` value:\n\n"
      ]
    },
    {
      "cell_type": "code",
      "execution_count": null,
      "metadata": {
        "collapsed": false
      },
      "outputs": [],
      "source": [
        "import openturns.viewer as viewer\ngridLayout = outputProcessSample.draw()\ngraph = gridLayout.getGraph(0,0)\ngraph.setTitle(\"\")\ngraph.setXTitle(\"FMU simulation time (s)\")\ngraph.setYTitle(\"Number of infected\")\ngraph.setLegends([str(line[0]) for line in inputSample])\nview = viewer.View(graph, legend_kw={\"title\": \"infection rate\"})\nview.ShowAll()"
      ]
    }
  ],
  "metadata": {
    "kernelspec": {
      "display_name": "Python 3",
      "language": "python",
      "name": "python3"
    },
    "language_info": {
      "codemirror_mode": {
        "name": "ipython",
        "version": 3
      },
      "file_extension": ".py",
      "mimetype": "text/x-python",
      "name": "python",
      "nbconvert_exporter": "python",
      "pygments_lexer": "ipython3",
      "version": "3.8.10"
    }
  },
  "nbformat": 4,
  "nbformat_minor": 0
}