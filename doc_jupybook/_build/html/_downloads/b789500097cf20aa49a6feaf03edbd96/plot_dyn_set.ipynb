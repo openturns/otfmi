{
  "cells": [
    {
      "cell_type": "markdown",
      "metadata": {},
      "source": [
        "\n# Set FMU simulation parameters\n"
      ]
    },
    {
      "cell_type": "markdown",
      "metadata": {},
      "source": [
        "``FMUPointToFieldFunction`` is an OpenTURNS-friendly overlay of the class\n``\u00d2penTURNSFMUPointToFieldFunction``, closer to the underlying PyFMI\nimplementation.\nSome FMU simulation parameters can be given to ``FMUPointToFieldFunction``,\nyet most of them can only be passed to an\n``OpenTURNSFMUPointToFieldFunction``.\n\n"
      ]
    },
    {
      "cell_type": "markdown",
      "metadata": {},
      "source": [
        "------------\n\n"
      ]
    },
    {
      "cell_type": "markdown",
      "metadata": {},
      "source": [
        "First, retrieve the path to *epid.fmu*.\nRecall the deviation model is dynamic, i.e. its output evolves over\ntime.\n\n"
      ]
    },
    {
      "cell_type": "code",
      "execution_count": null,
      "metadata": {
        "collapsed": false
      },
      "outputs": [],
      "source": [
        "import otfmi.example.utility\nimport openturns as ot\n\npath_fmu = otfmi.example.utility.get_path_fmu(\"epid\")"
      ]
    },
    {
      "cell_type": "markdown",
      "metadata": {},
      "source": [
        "The FMU simulation start and final times are the only simulation-related\nparameter that can be passed to ``FMUPointToFieldFunction``.\n\n"
      ]
    },
    {
      "cell_type": "code",
      "execution_count": null,
      "metadata": {
        "collapsed": false
      },
      "outputs": [],
      "source": [
        "mesh = ot.RegularGrid(0.0, 0.1, 20)\n\nfunction = otfmi.FMUPointToFieldFunction(\n    mesh,\n    path_fmu,\n    inputs_fmu=[\"infection_rate\", \"healing_rate\"],\n    outputs_fmu=[\"infected\"],\n    start_time=0.0,\n    final_time=2.0,\n)\n\ninputPoint = ot.Point([0.007, 0.02])\noutputSample = function(inputPoint)\nprint(outputSample)"
      ]
    },
    {
      "cell_type": "markdown",
      "metadata": {},
      "source": [
        "To set more parameters for the FMU simulation,\n``OpenTURNSFMUPointToFieldFunction`` can be employed. Below, we set the PyFMI\nalgorithm running the simulation, and require simulation silent mode.\n\n"
      ]
    },
    {
      "cell_type": "code",
      "execution_count": null,
      "metadata": {
        "collapsed": false
      },
      "outputs": [],
      "source": [
        "midlevel_function = otfmi.OpenTURNSFMUPointToFieldFunction(\n    mesh,\n    path_fmu,\n    inputs_fmu=[\"infection_rate\", \"healing_rate\"],\n    outputs_fmu=[\"infected\"],\n    start_time=0.0,\n    final_time=2.0,\n)\n\noutputPoint = midlevel_function.simulate(\n    inputPoint, algorithm=\"FMICSAlg\", options={\"silent_mode\": True}\n)"
      ]
    },
    {
      "cell_type": "markdown",
      "metadata": {},
      "source": [
        "For advanced users, the middle-level class ``OpenTURNSFMUFunction`` also gives\naccess to the PyFMI model. We can hence access all PyFMI's object methods:\n\n"
      ]
    },
    {
      "cell_type": "code",
      "execution_count": null,
      "metadata": {
        "collapsed": false
      },
      "outputs": [],
      "source": [
        "pyfmi_model = midlevel_function.model\nprint(dir(pyfmi_model))"
      ]
    },
    {
      "cell_type": "markdown",
      "metadata": {},
      "source": [
        "<div class=\"alert alert-info\"><h4>Note</h4><p>Otfmi' classes ``FMUPointToFieldFunction`` and ``OpenTURNSFMUPointToFieldFunction``\n   are designed to highlight the most useful PyFMI's methods and simplify their use!</p></div>\n\n"
      ]
    }
  ],
  "metadata": {
    "kernelspec": {
      "display_name": "Python 3",
      "language": "python",
      "name": "python3"
    },
    "language_info": {
      "codemirror_mode": {
        "name": "ipython",
        "version": 3
      },
      "file_extension": ".py",
      "mimetype": "text/x-python",
      "name": "python",
      "nbconvert_exporter": "python",
      "pygments_lexer": "ipython3",
      "version": "3.12.4"
    }
  },
  "nbformat": 4,
  "nbformat_minor": 0
}