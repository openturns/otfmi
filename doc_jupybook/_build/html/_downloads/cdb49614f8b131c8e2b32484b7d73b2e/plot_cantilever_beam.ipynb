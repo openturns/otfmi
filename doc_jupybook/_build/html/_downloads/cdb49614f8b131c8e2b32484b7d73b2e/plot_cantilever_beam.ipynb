{
  "cells": [
    {
      "cell_type": "markdown",
      "metadata": {},
      "source": [
        "\n# Estimate the probability of a threshold excedance\n"
      ]
    },
    {
      "cell_type": "markdown",
      "metadata": {},
      "source": [
        "A load is applied to a cantilever beam. For construction\nreasons, the beam must not exceed a bending of 30 cm. The load (F), beam\nYoung's modulus (E), length (L) and section modulus (I) are uncertain.\n\n<img src=\"file://_static/beam.png\" width=\"132px\" height=\"126px\" scale=\"100 %\" alt=\"alternate text\" align=\"center\">\n\n--------\n\nSee the cantilever beam model :doc:`here<../fmus/deviation>`.\n\n--------\n\n\n**What is the probability that the deviation exceeds the\nthreshold ?**\n\n\nWe load the FMU as a FMUFunction (see the\n:doc:`tutorial<../_generated/otfmi.FMUFunction>`):\n\n"
      ]
    },
    {
      "cell_type": "code",
      "execution_count": null,
      "metadata": {
        "collapsed": false
      },
      "outputs": [],
      "source": [
        "import openturns as ot\nimport otfmi\nimport otfmi.example.utility\nfrom openturns.viewer import View\n\npath_fmu = otfmi.example.utility.get_path_fmu(\"deviation\")\n\nmodel_fmu = otfmi.FMUFunction(\n    path_fmu, inputs_fmu=[\"E\", \"F\", \"L\", \"I\"], outputs_fmu=\"y\"\n)"
      ]
    },
    {
      "cell_type": "markdown",
      "metadata": {},
      "source": [
        "We test the function wrapping the deviation model on a point:\n\n"
      ]
    },
    {
      "cell_type": "code",
      "execution_count": null,
      "metadata": {
        "collapsed": false
      },
      "outputs": [],
      "source": [
        "point = ot.Point([3e7, 2e4, 255, 350])\nmodel_evaluation = model_fmu(point)\nprint(\"Running the FMU: deviation = {}\".format(model_evaluation))"
      ]
    },
    {
      "cell_type": "markdown",
      "metadata": {},
      "source": [
        "We define probability laws on the 4 uncertain inputs:\n\n"
      ]
    },
    {
      "cell_type": "code",
      "execution_count": null,
      "metadata": {
        "collapsed": false
      },
      "outputs": [],
      "source": [
        "E = ot.Beta(0.93, 3.2, 2.8e7, 4.8e7)\nF = ot.LogNormal()\nF.setParameter(ot.LogNormalMuSigma()([30.0e3, 9e3, 15.0e3]))\nL = ot.Uniform(250.0, 260.0)\nII = ot.Beta(2.5, 4.0, 310.0, 450.0)"
      ]
    },
    {
      "cell_type": "markdown",
      "metadata": {},
      "source": [
        "According to the laws of mechanics, when the length L increases, the moment\nof inertia I decreases.\nThe variables L and I are thus negatively correlated.\n\n**We assume that the random variables E, F, L and I are dependent and\nassociated with a gaussian copula which correlation matrix:**\n\n\\begin{align}\\begin{pmatrix}\n   1 & 0 & 0 & 0 \\\\\n   0 & 1 & 0 & 0 \\\\\n   0 & 0 & 1 & -0.2 \\\\\n   0 & 0 & -0.2 & 1 \\\\\n   \\end{pmatrix}\\end{align}\n\n"
      ]
    },
    {
      "cell_type": "markdown",
      "metadata": {},
      "source": [
        "We implement this correlation:\n\n"
      ]
    },
    {
      "cell_type": "code",
      "execution_count": null,
      "metadata": {
        "collapsed": false
      },
      "outputs": [],
      "source": [
        "# Create the Spearman correlation matrix of the input random vector\nRS = ot.CorrelationMatrix(4)\nRS[2, 3] = -0.2\n\n# Evaluate the correlation matrix of the Normal copula from RS\nR = ot.NormalCopula.GetCorrelationFromSpearmanCorrelation(RS)\n\n# Create the Normal copula parametrized by R\nmycopula = ot.NormalCopula(R)"
      ]
    },
    {
      "cell_type": "markdown",
      "metadata": {},
      "source": [
        "And we endly create the composed input probability distribution.\n\n"
      ]
    },
    {
      "cell_type": "code",
      "execution_count": null,
      "metadata": {
        "collapsed": false
      },
      "outputs": [],
      "source": [
        "inputDistribution = ot.ComposedDistribution([E, F, L, II], mycopula)\ninputDistribution.setDescription(model_fmu.getInputDescription())"
      ]
    },
    {
      "cell_type": "markdown",
      "metadata": {},
      "source": [
        "Create the event whose probability we want to estimate:\n\n"
      ]
    },
    {
      "cell_type": "code",
      "execution_count": null,
      "metadata": {
        "collapsed": false
      },
      "outputs": [],
      "source": [
        "inputRandomVector = ot.RandomVector(inputDistribution)\noutputVariableOfInterest = ot.CompositeRandomVector(model_fmu, inputRandomVector)\n\nthreshold = 30\nevent = ot.ThresholdEvent(outputVariableOfInterest, ot.Greater(), threshold)\nevent.setName(\"Deviation > %g cm\" % threshold)"
      ]
    },
    {
      "cell_type": "markdown",
      "metadata": {},
      "source": [
        "Parameterize and run the Monte Carlo algorithm:\n\n"
      ]
    },
    {
      "cell_type": "code",
      "execution_count": null,
      "metadata": {
        "collapsed": false
      },
      "outputs": [],
      "source": [
        "ot.RandomGenerator.SetSeed(23091926)  # set seed for reproducibility\n\nexperiment = ot.MonteCarloExperiment()\nalgo = ot.ProbabilitySimulationAlgorithm(event, experiment)\nalgo.setMaximumOuterSampling(200)\nalgo.setMaximumCoefficientOfVariation(0.2)\nalgo.run()"
      ]
    },
    {
      "cell_type": "markdown",
      "metadata": {},
      "source": [
        "Draw the distribution of threshold excedance probability:\n\n"
      ]
    },
    {
      "cell_type": "code",
      "execution_count": null,
      "metadata": {
        "collapsed": false
      },
      "outputs": [],
      "source": [
        "monte_carlo_result = algo.getResult()\nprobabilityDistribution = monte_carlo_result.getProbabilityDistribution()\ngraph = View(probabilityDistribution.drawPDF())"
      ]
    },
    {
      "cell_type": "markdown",
      "metadata": {},
      "source": [
        "Get the probability with which the beam deviation exceeds 30 cm:\n\n"
      ]
    },
    {
      "cell_type": "code",
      "execution_count": null,
      "metadata": {
        "collapsed": false
      },
      "outputs": [],
      "source": [
        "probability = monte_carlo_result.getProbabilityEstimate()\nprint(\"Threshold excedance probability: {}\".format(probability))"
      ]
    },
    {
      "cell_type": "markdown",
      "metadata": {},
      "source": [
        "Given the uncertainties on the load applied and the beam mechanical\nparameters, the beam bending has a probability of 0.01 to exceed 30 cm.\nIs this probability low or not ? It depends on your context \ud83d\ude42\n\n"
      ]
    }
  ],
  "metadata": {
    "kernelspec": {
      "display_name": "Python 3",
      "language": "python",
      "name": "python3"
    },
    "language_info": {
      "codemirror_mode": {
        "name": "ipython",
        "version": 3
      },
      "file_extension": ".py",
      "mimetype": "text/x-python",
      "name": "python",
      "nbconvert_exporter": "python",
      "pygments_lexer": "ipython3",
      "version": "3.12.4"
    }
  },
  "nbformat": 4,
  "nbformat_minor": 0
}