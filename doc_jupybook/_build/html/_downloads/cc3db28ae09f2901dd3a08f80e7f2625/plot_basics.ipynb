{
  "cells": [
    {
      "cell_type": "markdown",
      "metadata": {},
      "source": [
        "\n# FMUFunction basics\n"
      ]
    },
    {
      "cell_type": "markdown",
      "metadata": {},
      "source": [
        ":class:`~otfmi.FMUFunction` enables to use OpenTURNS' high\nlevel algorithms by wrapping the FMU into an :py:class:`openturns.Function` object.\n\n"
      ]
    },
    {
      "cell_type": "markdown",
      "metadata": {},
      "source": [
        "------------\n\n"
      ]
    },
    {
      "cell_type": "markdown",
      "metadata": {},
      "source": [
        "First, retrieve the path to the FMU *deviation.fmu*.\nRecall the deviation model is static, i.e. its output does not evolve over time.\n\n"
      ]
    },
    {
      "cell_type": "code",
      "execution_count": null,
      "metadata": {
        "collapsed": false
      },
      "outputs": [],
      "source": [
        "import openturns as ot\nimport otfmi.example.utility\npath_fmu = otfmi.example.utility.get_path_fmu(\"deviation\")"
      ]
    },
    {
      "cell_type": "markdown",
      "metadata": {},
      "source": [
        "Wrap the FMU into an OpenTURNS function:\n\n"
      ]
    },
    {
      "cell_type": "code",
      "execution_count": null,
      "metadata": {
        "collapsed": false
      },
      "outputs": [],
      "source": [
        "function = otfmi.FMUFunction(\n    path_fmu, inputs_fmu=[\"E\", \"F\", \"L\", \"I\"], outputs_fmu=[\"y\"]\n)\nprint(type(function))"
      ]
    },
    {
      "cell_type": "markdown",
      "metadata": {},
      "source": [
        "Simulate the FMU on a point:\n\n"
      ]
    },
    {
      "cell_type": "code",
      "execution_count": null,
      "metadata": {
        "collapsed": false
      },
      "outputs": [],
      "source": [
        "inputPoint = ot.Point([3.0e7, 30000, 200, 400])\noutputPoint = function(inputPoint)\nprint(\"y = {}\".format(outputPoint))"
      ]
    },
    {
      "cell_type": "markdown",
      "metadata": {},
      "source": [
        "Simulate the FMU on a sample:\n\n"
      ]
    },
    {
      "cell_type": "code",
      "execution_count": null,
      "metadata": {
        "collapsed": false
      },
      "outputs": [],
      "source": [
        "inputSample = ot.Sample(\n    [[3.0e7, 30000, 200, 400], [3.0e7, 30000, 250, 400], [3.0e7, 30000, 300, 400]]\n)\ninputSample.setDescription([\"E\", \"F\", \"L\", \"I\"])\noutputSample = function(inputSample)\nprint(outputSample)"
      ]
    }
  ],
  "metadata": {
    "kernelspec": {
      "display_name": "Python 3",
      "language": "python",
      "name": "python3"
    },
    "language_info": {
      "codemirror_mode": {
        "name": "ipython",
        "version": 3
      },
      "file_extension": ".py",
      "mimetype": "text/x-python",
      "name": "python",
      "nbconvert_exporter": "python",
      "pygments_lexer": "ipython3",
      "version": "3.12.4"
    }
  },
  "nbformat": 4,
  "nbformat_minor": 0
}