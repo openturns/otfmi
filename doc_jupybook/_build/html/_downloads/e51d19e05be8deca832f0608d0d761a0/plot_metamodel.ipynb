{
  "cells": [
    {
      "cell_type": "markdown",
      "metadata": {},
      "source": [
        "\n# Metamodel a FMU time-dependent output\n"
      ]
    },
    {
      "cell_type": "markdown",
      "metadata": {},
      "source": [
        "We are interested in the evolution of an epidemic through a\npopulation (for instance, Covid!). We have an epidemiologic model describing\nthe epidemic dynamics. More precisely, we focus on the evolution of the number\nof people infected by the disease.\n\n<img src=\"file://_static/epid.png\" width=\"400px\" height=\"300px\" scale=\"100 %\" alt=\"alternate text\" align=\"center\">\n\n--------\n\nSee the epidemiological model :doc:`here<../fmus/epid>`.\n\n--------\n\n\n**To decrease the model simulation costs, let's create a metamodel.**\n\nMetamodeling a model which output depends on time is a difficult problem. We\nwill combine two methods: Karhunen-Loeve dimension reduction should precede the Kriging metamodeling.\n\nWe will proceed the following way:\n\n- simulate the FMU *n* times on a design of experiment,\n- concentrate the information of the time-dependent output via Karhunen-Loeve,\n- metamodel the Karhunen-Loeve coefficients.\n\nThe composition of the coefficients metamodel with the inverse\nKarhunen-Loeve will make the global metamodel.\n\n"
      ]
    },
    {
      "cell_type": "markdown",
      "metadata": {},
      "source": [
        "## Create the metamodel\n\n"
      ]
    },
    {
      "cell_type": "markdown",
      "metadata": {},
      "source": [
        "We load the FMU as a FMUPointToFieldFunction (see the\n:doc:`tutorial<../_generated/otfmi.FMUPointToFieldFunction>`). We concentrate\non the first time unit of the epidemiological model output. The single\nuncertain input of the model is the ``\u00ecnfection_rate``.\n\n"
      ]
    },
    {
      "cell_type": "code",
      "execution_count": null,
      "metadata": {
        "collapsed": false
      },
      "outputs": [],
      "source": [
        "import otfmi.example.utility\nimport openturns as ot\nimport openturns.viewer as viewer\n\npath_fmu = otfmi.example.utility.get_path_fmu(\"epid\")\nmesh = ot.RegularGrid(0.0, 0.05, 20)\nmeshSample = mesh.getVertices()\n\nfunction = otfmi.FMUPointToFieldFunction(\n    mesh,\n    path_fmu,\n    inputs_fmu=[\"infection_rate\"],\n    outputs_fmu=[\"infected\"],\n    start_time=0.0,\n    final_time=1.0,\n)"
      ]
    },
    {
      "cell_type": "markdown",
      "metadata": {},
      "source": [
        "We create a Monte-Carlo design of experiment, on which we\nsimulate the FMU.\nThe simulation inputs and outputs will be used to train the metamodel.\n\n"
      ]
    },
    {
      "cell_type": "code",
      "execution_count": null,
      "metadata": {
        "collapsed": false
      },
      "outputs": [],
      "source": [
        "inputLaw = ot.Uniform(0.001, 0.01)\ninputSample = inputLaw.getSample(30)\noutputFMUSample = function(inputSample)\n\ngraph = outputFMUSample.draw().getGraph(0, 0)\ngraph.setTitle(\"FMU simulations\")\ngraph.setXTitle(\"Time\")\ngraph.setYTitle(\"Number of infected\")\ngraph.setLegends([\"{:.3f}\".format(line[0]) for line in inputSample])\nview = viewer.View(graph, legend_kw={\"title\": \"infection rate\", \"loc\": \"upper left\"})\nview.ShowAll()"
      ]
    },
    {
      "cell_type": "markdown",
      "metadata": {},
      "source": [
        "We define a function to visualize the upcoming Karhunen-Loevem modes.\n\n"
      ]
    },
    {
      "cell_type": "code",
      "execution_count": null,
      "metadata": {
        "collapsed": false
      },
      "outputs": [],
      "source": [
        "def drawKL(scaledKL, KLev, mesh, title=\"Scaled KL modes\"):\n    graph_modes = scaledKL.drawMarginal()\n    graph_modes.setTitle(title + \" scaled KL modes\")\n    graph_modes.setXTitle(\"$x$\")\n    graph_modes.setYTitle(r\"$\\sqrt{\\lambda_i}\\phi_i$\")\n    data_ev = [[i, KLev[i]] for i in range(scaledKL.getSize())]\n    graph_ev = ot.Graph()\n    graph_ev.add(ot.Curve(data_ev))\n    graph_ev.add(ot.Cloud(data_ev))\n    graph_ev.setTitle(title + \" KL eigenvalues\")\n    graph_ev.setXTitle(\"$k$\")\n    graph_ev.setYTitle(r\"$\\lambda_i$\")\n    graph_ev.setAxes(True)\n    graph_ev.setGrid(True)\n    graph_ev.setLogScale(2)\n    bb = graph_ev.getBoundingBox()\n    lower = bb.getLowerBound()\n    lower[1] = 1.0e-7\n    bb = ot.Interval(lower, bb.getUpperBound())\n    graph_ev.setBoundingBox(bb)\n    return graph_modes, graph_ev"
      ]
    },
    {
      "cell_type": "markdown",
      "metadata": {},
      "source": [
        "We compute the Karhunen-Loeve decomposition of the model outputs.\nThe underlying assumption is that these outputs are realizations of a\nstochastic process.\n\n"
      ]
    },
    {
      "cell_type": "code",
      "execution_count": null,
      "metadata": {
        "collapsed": false
      },
      "outputs": [],
      "source": [
        "threshold = 0.0001\nalgoKL = ot.KarhunenLoeveSVDAlgorithm(outputFMUSample, threshold)\nalgoKL.run()\nresultKL = algoKL.getResult()"
      ]
    },
    {
      "cell_type": "markdown",
      "metadata": {},
      "source": [
        "Let be curious and plot the Karhunen-Loeve modes:\n\n"
      ]
    },
    {
      "cell_type": "code",
      "execution_count": null,
      "metadata": {
        "collapsed": false
      },
      "outputs": [],
      "source": [
        "phi_Y = resultKL.getScaledModesAsProcessSample()\nlambda_Y = resultKL.getEigenvalues()\ngraph_modes_Y, graph_ev_Y = drawKL(phi_Y, lambda_Y, mesh, \"Y\")\nview = viewer.View(graph_modes_Y)\nview.ShowAll()"
      ]
    },
    {
      "cell_type": "markdown",
      "metadata": {},
      "source": [
        "Now that Karhunen-Loeve algorithm is trained, we can project them\nin the smaller-dimension space:\n\n"
      ]
    },
    {
      "cell_type": "code",
      "execution_count": null,
      "metadata": {
        "collapsed": false
      },
      "outputs": [],
      "source": [
        "projectionSample = resultKL.project(outputFMUSample)\nn_mode = projectionSample.getDimension()\nprint(\"Karhunen-Loeve projection is dimension {}\".format(n_mode))"
      ]
    },
    {
      "cell_type": "markdown",
      "metadata": {},
      "source": [
        "We keep on following our road map, by metamodeling the projection\nof the curves on the smaller-dimension space.\nWe metamodel the Karhunen-Loeve coefficients using ordinary Kriging.\n\n"
      ]
    },
    {
      "cell_type": "code",
      "execution_count": null,
      "metadata": {
        "collapsed": false
      },
      "outputs": [],
      "source": [
        "dim = inputSample.getDimension()  # only 1 input dimension\nunivb = ot.ConstantBasisFactory(dim).build()  # univariate basis\ncoll = [ot.AggregatedFunction([univb.build(i)] * n_mode) for i in range(univb.getSize())]\nbasis = ot.Basis(coll)  # multivariate basis\ncovarianceModel = ot.SquaredExponential(dim)\ncovarianceModel = ot.TensorizedCovarianceModel([covarianceModel] * n_mode)\n\n\nalgo = ot.KrigingAlgorithm(inputSample, projectionSample, covarianceModel, basis)\nalgo.run()\nresult = algo.getResult()\nmetamodel = result.getMetaModel()"
      ]
    },
    {
      "cell_type": "markdown",
      "metadata": {},
      "source": [
        "We have created all pieces for a \"PointToField\" metamodel. Let put these\npieces together:\n\n"
      ]
    },
    {
      "cell_type": "code",
      "execution_count": null,
      "metadata": {
        "collapsed": false
      },
      "outputs": [],
      "source": [
        "def globalMetamodel(sample):\n    emulatedCoefficients = metamodel(sample)\n    restoreFunction = ot.KarhunenLoeveLifting(resultKL)\n    emulatedProcessSample = restoreFunction(emulatedCoefficients)\n    return emulatedProcessSample"
      ]
    },
    {
      "cell_type": "markdown",
      "metadata": {},
      "source": [
        "## Validate the metamodel\n\n"
      ]
    },
    {
      "cell_type": "markdown",
      "metadata": {},
      "source": [
        "We create a new Monte-Carlo design of experiment. On this design of\nexperiment, the FMU is simulated as well as the metamodel.\n\n"
      ]
    },
    {
      "cell_type": "code",
      "execution_count": null,
      "metadata": {
        "collapsed": false
      },
      "outputs": [],
      "source": [
        "inputTestSample = inputLaw.getSample(10)\noutputFMUTestSample = function(inputTestSample)\noutputMetamodelTestSample = globalMetamodel(inputTestSample)"
      ]
    },
    {
      "cell_type": "markdown",
      "metadata": {},
      "source": [
        "First, we have a visual check:\n\n"
      ]
    },
    {
      "cell_type": "code",
      "execution_count": null,
      "metadata": {
        "collapsed": false
      },
      "outputs": [],
      "source": [
        "gridLayout = ot.GridLayout(1, 2)\n\ngraph1 = outputFMUTestSample.draw().getGraph(0, 0)\ngraph1.setTitle(\"FMU simulations\")\ngraph2 = outputMetamodelTestSample.draw().getGraph(0, 0)\ngraph2.setTitle(\"Metamodel\")\n\nfor graph in [graph1, graph2]:\n    graph.setXTitle(\"Time\")\n    graph.setYTitle(\"Number of infected\")\n    graph.setLegends([\"{:.3f}\".format(line[0]) for line in inputSample])\n\ngridLayout.setGraph(0, 0, graph1)\ngridLayout.setGraph(0, 1, graph2)\nview = viewer.View(\n    gridLayout, legend_kw={\"title\": \"infection rate\", \"loc\": \"upper left\"}\n)\nview.ShowAll()"
      ]
    },
    {
      "cell_type": "markdown",
      "metadata": {},
      "source": [
        "We validate the pertinence of Karhunen-Loeve decomposition:\n\n"
      ]
    },
    {
      "cell_type": "code",
      "execution_count": null,
      "metadata": {
        "collapsed": false
      },
      "outputs": [],
      "source": [
        "validationKL = ot.KarhunenLoeveValidation(outputFMUTestSample, resultKL)\ngraph = validationKL.computeResidualMean().draw()\not.Show(graph)"
      ]
    },
    {
      "cell_type": "markdown",
      "metadata": {},
      "source": [
        "As the epidemiological model considers a population size of 700, the residual\nmean error on the field is acceptable.\n\n"
      ]
    },
    {
      "cell_type": "markdown",
      "metadata": {},
      "source": [
        "We validate the Kriging (using the Karhunen-Loeve coefficients of the test\nsample):\n\n"
      ]
    },
    {
      "cell_type": "code",
      "execution_count": null,
      "metadata": {
        "collapsed": false
      },
      "outputs": [],
      "source": [
        "projectFunction = ot.KarhunenLoeveProjection(resultKL)\ncoefficientSample = projectFunction(outputFMUTestSample)\n\nvalidationKriging = ot.MetaModelValidation(\n    inputTestSample, coefficientSample, metamodel\n)\nQ2 = validationKriging.computePredictivityFactor()[0]\nprint(Q2)"
      ]
    },
    {
      "cell_type": "markdown",
      "metadata": {},
      "source": [
        "The predictivity factor is very close to 1, which is satisfying.\nFurther statistical tests exist in\n[OpenTURNS](http://openturns.github.io/openturns/master/contents.html) to\nassert the quality of the obtained metamodel.\n\n"
      ]
    },
    {
      "cell_type": "markdown",
      "metadata": {},
      "source": [
        "----------------------\n\nThe ``globalMetamodel`` (computationnally faster than the FMU) created with\nthe above script can now be used as a computationnally much cheaper\nsubstitute to the FMU for\n\n- [sensitivity analysis](openturns.github.io/openturns/latest/auto_reliability_sensitivity/index.html#sensitivity-analysis),\n- [parameter inference](openturns.github.io/openturns/latest/auto_calibration/index.html#bayesian-calibration),\n- [estimate a failure probability](openturns.github.io/openturns/latest/auto_reliability_sensitivity/index.html#reliability),\n\netc.\n\n"
      ]
    }
  ],
  "metadata": {
    "kernelspec": {
      "display_name": "Python 3",
      "language": "python",
      "name": "python3"
    },
    "language_info": {
      "codemirror_mode": {
        "name": "ipython",
        "version": 3
      },
      "file_extension": ".py",
      "mimetype": "text/x-python",
      "name": "python",
      "nbconvert_exporter": "python",
      "pygments_lexer": "ipython3",
      "version": "3.12.4"
    }
  },
  "nbformat": 4,
  "nbformat_minor": 0
}