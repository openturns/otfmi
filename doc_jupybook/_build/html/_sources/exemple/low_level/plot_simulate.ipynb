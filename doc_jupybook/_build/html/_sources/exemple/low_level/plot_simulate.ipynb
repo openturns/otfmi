{
  "cells": [
    {
      "cell_type": "markdown",
      "metadata": {},
      "source": [
        "\n# Simulate an FMU\n"
      ]
    },
    {
      "cell_type": "markdown",
      "metadata": {},
      "source": [
        "The Otfmi ``simulate`` function instanciates, initializes and simulates the\nFMU.\n\n"
      ]
    },
    {
      "cell_type": "markdown",
      "metadata": {},
      "source": [
        "First, retrieve and load the FMU *deviation.fmu*.\n\n\n"
      ]
    },
    {
      "cell_type": "code",
      "execution_count": null,
      "metadata": {
        "collapsed": false
      },
      "outputs": [],
      "source": [
        "import openturns as ot\nimport otfmi.example.utility\nimport matplotlib.pyplot as plt\n\npath_fmu = otfmi.example.utility.get_path_fmu(\"deviation\")\nmodel = otfmi.fmi.load_fmu(path_fmu)"
      ]
    },
    {
      "cell_type": "markdown",
      "metadata": {},
      "source": [
        "<div class=\"alert alert-info\"><h4>Note</h4><p>| *model* is a PyFMI object, loaded with Otfmi\u2019s overlay.\n  | As such, ``model.simulate()`` is a pure PyFMI method.\n  | Use ``otfmi.fmi.simulate(model)`` to benefit from Otfmi\u2019s overlay.</p></div>\n\n"
      ]
    },
    {
      "cell_type": "markdown",
      "metadata": {},
      "source": [
        "Otfmi ``simulate`` function notably eases initializing a FMU, see\n`sphx_glr_auto_example_low_level_plot_initialize.py`.\n\n"
      ]
    },
    {
      "cell_type": "markdown",
      "metadata": {},
      "source": [
        "On top of the initialization keywords, PyFMI simulation keywords can be\nemployed:\n\n"
      ]
    },
    {
      "cell_type": "code",
      "execution_count": null,
      "metadata": {
        "collapsed": false
      },
      "outputs": [],
      "source": [
        "result = otfmi.fmi.simulate(\n    model,\n    start_time=0,  # PyFMI keyword\n    final_time=1,  # PyFMI keyword\n    initialization_parameters=([\"L\"], [300]),\n)  # Otfmi keyword\nprint(\"y = %g\" % result.final(\"y\"))"
      ]
    },
    {
      "cell_type": "markdown",
      "metadata": {},
      "source": [
        "We can use these keyword to plot the deviation Y as function of the beam\nlength L:\n\n"
      ]
    },
    {
      "cell_type": "code",
      "execution_count": null,
      "metadata": {
        "collapsed": false
      },
      "outputs": [],
      "source": [
        "inputSample = ot.RegularGrid(1.0, 10.0, 10).getValues()\n\nlist_output = []\nfor length in inputSample:\n    result = otfmi.fmi.simulate(model, initialization_parameters=([\"L\"], [length]))\n    list_output.append(result.final(\"y\"))\noutputSample = ot.Sample([[xx] for xx in list_output])\n\nplt.figure()\nplt.plot(inputSample, outputSample)\nplt.show()"
      ]
    },
    {
      "cell_type": "markdown",
      "metadata": {},
      "source": [
        "| The interest of the higher-level functions are:\n| - avoid the *for* loop on the points of the design of experiment,\n| - automatic formatting of the simulation outputs.\n\n"
      ]
    }
  ],
  "metadata": {
    "kernelspec": {
      "display_name": "Python 3",
      "language": "python",
      "name": "python3"
    },
    "language_info": {
      "codemirror_mode": {
        "name": "ipython",
        "version": 3
      },
      "file_extension": ".py",
      "mimetype": "text/x-python",
      "name": "python",
      "nbconvert_exporter": "python",
      "pygments_lexer": "ipython3",
      "version": "3.12.4"
    }
  },
  "nbformat": 4,
  "nbformat_minor": 0
}