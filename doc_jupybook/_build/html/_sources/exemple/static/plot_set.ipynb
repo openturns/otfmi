{
  "cells": [
    {
      "cell_type": "markdown",
      "metadata": {},
      "source": [
        "\n# Set FMU simulation parameters\n"
      ]
    },
    {
      "cell_type": "markdown",
      "metadata": {},
      "source": [
        "``FMUFunction`` is an OpenTURNS-friendly overlay of the class\n``\u00d2penTURNSFMUFunction``, closer to the underlying PyFMI implementation.\nSome FMU simulation parameters can be given to ``FMUFunction``, yet most of\nthem can only be passed to an ``OpenTURNSFMUFunction``.\n\n"
      ]
    },
    {
      "cell_type": "markdown",
      "metadata": {},
      "source": [
        "------------\n\n"
      ]
    },
    {
      "cell_type": "markdown",
      "metadata": {},
      "source": [
        "First, retrieve the path to the FMU *deviation.fmu*.\nRecall the deviation model is static, i.e. its output does not evolve over\ntime.\n\n"
      ]
    },
    {
      "cell_type": "code",
      "execution_count": null,
      "metadata": {
        "collapsed": false
      },
      "outputs": [],
      "source": [
        "import otfmi.example.utility\nimport openturns as ot\n\npath_fmu = otfmi.example.utility.get_path_fmu(\"deviation\")"
      ]
    },
    {
      "cell_type": "markdown",
      "metadata": {},
      "source": [
        "The FMU simulation final time is the only simulation-related parameter that\ncan be passed to ``FMUFunction``. This parameter is useless if the FMU is\nreally time-independent (like this example); yet it can be come in use if the\nFMU requires time to converge.\n\n"
      ]
    },
    {
      "cell_type": "code",
      "execution_count": null,
      "metadata": {
        "collapsed": false
      },
      "outputs": [],
      "source": [
        "function = otfmi.FMUFunction(\n    path_fmu, inputs_fmu=[\"E\", \"I\"], outputs_fmu=[\"y\"], final_time=50.0\n)\n\ninputPoint = ot.Point([2e9, 7e7])\noutputPoint = function(inputPoint)\nprint(outputPoint)"
      ]
    },
    {
      "cell_type": "markdown",
      "metadata": {},
      "source": [
        "To set more parameters for the FMU simulation, ``OpenTURNSFMUFunction`` can be\nemployed. Below, we set the start time for the simulation, the PyFMI algorithm\nrunning the simulation, and require simulation silent mode.\n\n"
      ]
    },
    {
      "cell_type": "code",
      "execution_count": null,
      "metadata": {
        "collapsed": false
      },
      "outputs": [],
      "source": [
        "midlevel_function = otfmi.OpenTURNSFMUFunction(\n    path_fmu, inputs_fmu=[\"E\", \"I\"], outputs_fmu=[\"y\"]\n)\n\noutputPoint = midlevel_function.simulate(\n    inputPoint, start_time=10.0, algorithm=\"FMICSAlg\", options={\"silent_mode\": True}\n)"
      ]
    },
    {
      "cell_type": "markdown",
      "metadata": {},
      "source": [
        "For advanced users, the middle-level class ``OpenTURNSFMUFunction`` also gives\naccess to the PyFMI model. We can hence access all PyFMI's object methods:\n\n"
      ]
    },
    {
      "cell_type": "code",
      "execution_count": null,
      "metadata": {
        "collapsed": false
      },
      "outputs": [],
      "source": [
        "pyfmi_model = midlevel_function.model\nprint(dir(pyfmi_model))"
      ]
    },
    {
      "cell_type": "markdown",
      "metadata": {},
      "source": [
        "<div class=\"alert alert-info\"><h4>Note</h4><p>Otfmi' classes ``FMUFunction`` and ``OpenTURNSFMUFunction`` are designed to\n   highlight the most useful PyFMI's methods and simplify their use!</p></div>\n\n"
      ]
    }
  ],
  "metadata": {
    "kernelspec": {
      "display_name": "Python 3",
      "language": "python",
      "name": "python3"
    },
    "language_info": {
      "codemirror_mode": {
        "name": "ipython",
        "version": 3
      },
      "file_extension": ".py",
      "mimetype": "text/x-python",
      "name": "python",
      "nbconvert_exporter": "python",
      "pygments_lexer": "ipython3",
      "version": "3.12.4"
    }
  },
  "nbformat": 4,
  "nbformat_minor": 0
}