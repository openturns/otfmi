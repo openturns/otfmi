{
  "cells": [
    {
      "cell_type": "markdown",
      "metadata": {},
      "source": [
        "\n# Initialize FMUFunction\n"
      ]
    },
    {
      "cell_type": "markdown",
      "metadata": {},
      "source": [
        "The interest of using FMUs in Python lies in the ease to change its input\n/ parameter values. This notably enables to study the behavior of the FMU\nwith uncertain inputs / parameters.\n\n"
      ]
    },
    {
      "cell_type": "markdown",
      "metadata": {},
      "source": [
        "Initialization scripts can gather a large number of initial values.\nThe use of initialization scripts (*.mos* files) is common in Dymola :\n\n- to save the value of all the variables of a model after simulation,\n- to restart simulation from a given point.\n\n"
      ]
    },
    {
      "cell_type": "markdown",
      "metadata": {},
      "source": [
        "------------\n\n"
      ]
    },
    {
      "cell_type": "markdown",
      "metadata": {},
      "source": [
        "First, retrieve the path to the FMU *deviation.fmu*.\nRecall the deviation model is static, i.e. its output does not evolve over\ntime.\n\n"
      ]
    },
    {
      "cell_type": "code",
      "execution_count": null,
      "metadata": {
        "collapsed": false
      },
      "outputs": [],
      "source": [
        "import openturns as ot\nfrom os.path import abspath\nimport otfmi.example.utility\nimport otfmi\nimport openturns.viewer as viewer\n\npath_fmu = otfmi.example.utility.get_path_fmu(\"deviation\")"
      ]
    },
    {
      "cell_type": "markdown",
      "metadata": {},
      "source": [
        "The initialization script must be provided to `FMUFunction` constructor.\nWe thus create it now (using Python for clarity).\n\n"
      ]
    },
    {
      "cell_type": "markdown",
      "metadata": {},
      "source": [
        "<div class=\"alert alert-info\"><h4>Note</h4><p>The initialization script can be automatically created in Dymola.</p></div>\n\n"
      ]
    },
    {
      "cell_type": "code",
      "execution_count": null,
      "metadata": {
        "collapsed": false
      },
      "outputs": [],
      "source": [
        "temporary_file = \"initialization.mos\"\nwith open(temporary_file, \"w\") as f:\n    f.write(\"L = 300;\\n\")\n    f.write(\"F = 25000;\\n\")"
      ]
    },
    {
      "cell_type": "markdown",
      "metadata": {},
      "source": [
        "If no initial value is provided for an input / parameter, it is set to its\ndefault initial value (as set in the FMU).\n\n"
      ]
    },
    {
      "cell_type": "markdown",
      "metadata": {},
      "source": [
        "We can now build the `FMUFunction`. In the example below, we use the\ninitialization script to fix the values of ``L`` and ``F`` in the FMU whereas\n``E`` and ``I`` are the function variables.\n\n"
      ]
    },
    {
      "cell_type": "code",
      "execution_count": null,
      "metadata": {
        "collapsed": false
      },
      "outputs": [],
      "source": [
        "function = otfmi.FMUFunction(\n    path_fmu,\n    inputs_fmu=[\"E\", \"I\"],\n    outputs_fmu=[\"y\"],\n    initialization_script=abspath(\"initialization.mos\"),\n)\n\ninputPoint = ot.Point([2e9, 7e7])\noutputPoint = function(inputPoint)\nprint(outputPoint)"
      ]
    },
    {
      "cell_type": "markdown",
      "metadata": {},
      "source": [
        "<div class=\"alert alert-info\"><h4>Note</h4><p>It is possible to set the value of a  model input in the\n   initialization script *and* use it as a function input variable. In this\n   case, the initial value from the initialization script is overriden.</p></div>\n\n"
      ]
    },
    {
      "cell_type": "markdown",
      "metadata": {},
      "source": [
        "For instance, we consider the 4 model parameters as variables. Note the\nresult is different from above, as the input point overrides the values from\nthe initialization script.\n\n"
      ]
    },
    {
      "cell_type": "code",
      "execution_count": null,
      "metadata": {
        "collapsed": false
      },
      "outputs": [],
      "source": [
        "smallExampleFunction = otfmi.FMUFunction(\n    path_fmu,\n    inputs_fmu=[\"E\", \"F\", \"L\", \"I\"],\n    outputs_fmu=[\"y\"],\n    initialization_script=abspath(\"initialization.mos\"),\n)\n\ninputPoint = ot.Point([2e9, 2e4, 800, 7e7])\noutputPoint = smallExampleFunction(inputPoint)\nprint(outputPoint)"
      ]
    },
    {
      "cell_type": "markdown",
      "metadata": {},
      "source": [
        "Come back to the function with 2 input variables defined above.\n``F`` and ``L`` initial values are defined in the initialization script, and\nremain constant over time. We can now set probability laws on the function\ninput variables ``E`` and ``I`` to propagate their uncertainty through the\nmodel:\n\n"
      ]
    },
    {
      "cell_type": "code",
      "execution_count": null,
      "metadata": {
        "collapsed": false
      },
      "outputs": [],
      "source": [
        "lawE = ot.Uniform(65e9, 75e9)\nlawI = ot.Uniform(1.3e7, 1.7e7)\ndist = ot.ComposedDistribution([lawE, lawI])\ninputSample = dist.getSample(10)\n\noutputSample = function(inputSample)\n\ngraph = ot.HistogramFactory().build(outputSample).drawPDF()\nview = viewer.View(graph)\nview.ShowAll()"
      ]
    }
  ],
  "metadata": {
    "kernelspec": {
      "display_name": "Python 3",
      "language": "python",
      "name": "python3"
    },
    "language_info": {
      "codemirror_mode": {
        "name": "ipython",
        "version": 3
      },
      "file_extension": ".py",
      "mimetype": "text/x-python",
      "name": "python",
      "nbconvert_exporter": "python",
      "pygments_lexer": "ipython3",
      "version": "3.12.4"
    }
  },
  "nbformat": 4,
  "nbformat_minor": 0
}