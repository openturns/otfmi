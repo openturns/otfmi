{
  "cells": [
    {
      "cell_type": "markdown",
      "metadata": {},
      "source": [
        "\n# Export a function as Modelica model\n"
      ]
    },
    {
      "cell_type": "markdown",
      "metadata": {},
      "source": [
        "``otfmi.FunctionExporter`` enables to export OpenTURNS functions as Modelica model.\nThe main interest is to use OpenTURNS metamodels in a simulation environment.\n\nCurrently, the inclusion of a metamodel in\n[OpenModelica GUI](https://openmodelica.org/?id=78:omconnectioneditoromedit&catid=10:main-category)\nhas been performed once (see\n[this paper](https://www.researchgate.net/publication/354810878_Analysis_and_reduction_of_models_using_Persalys)).\n\n------------\n\n## Model generation\n\nFirst, we create the OpenTURNS function to export as Modelica model.\n\n"
      ]
    },
    {
      "cell_type": "code",
      "execution_count": null,
      "metadata": {
        "collapsed": false
      },
      "outputs": [],
      "source": [
        "import openturns as ot\nimport otfmi\nimport tempfile\nfrom os.path import join\n\n\nfunc = ot.SymbolicFunction(\"x\", \"exp(x)\")\ninputPoint = [2.0]\nprint(func(inputPoint))"
      ]
    },
    {
      "cell_type": "markdown",
      "metadata": {},
      "source": [
        "We create the model constructor and the folder in which save the model:\n\n"
      ]
    },
    {
      "cell_type": "code",
      "execution_count": null,
      "metadata": {
        "collapsed": false
      },
      "outputs": [],
      "source": [
        "fmuExporter = otfmi.FunctionExporter(func)\n\nmodel_path = join(tempfile.mkdtemp(), \"myExponential.mo\")\nprint(model_path)"
      ]
    },
    {
      "cell_type": "markdown",
      "metadata": {},
      "source": [
        "We create the FunctionExporter instance and export the exponential function.\nWe specify ``gui=True`` to use the model in a Modelica GUI in connection\nwith other components.\n\n"
      ]
    },
    {
      "cell_type": "code",
      "execution_count": null,
      "metadata": {
        "collapsed": false
      },
      "outputs": [],
      "source": [
        "modelExporter = otfmi.FunctionExporter(func)\nmodelExporter.export_model(model_path, gui=True)"
      ]
    },
    {
      "cell_type": "markdown",
      "metadata": {},
      "source": [
        "Simple as it looks, this function actually does the following:\n\n- write a C-wrapper for the OpenTURNS function,\n- write a Modelica model calling the C-wrapper as [External](shorturl.at/fhCU2) function.\n\n<div class=\"alert alert-info\"><h4>Note</h4><p>The export requires [CMake](https://cmake.org/), a C compiler, and the\n  OpenModelica compiler [OMC](https://www.openmodelica.org/?id=51:open-modelica-compiler-omccecatid=10:main-category).</p></div>\n\n----------------------\n\n## Model validation\n\nWe import this model in OpenModelica GUI. We can check the Modelica code:\n\n<img src=\"file://_static/modelica_gui_code.png\" width=\"264px\" height=\"252px\" scale=\"100 %\" alt=\"alternate text\" align=\"center\">\n\n<div class=\"alert alert-info\"><h4>Note</h4><p>The path to the C-wrapper is hard-coded in the model.</p></div>\n\nWe can also check the connectors position:\n\n<img src=\"file://_static/modelica_gui_interface.png\" width=\"264px\" height=\"252px\" scale=\"100 %\" alt=\"alternate text\" align=\"center\">\n\nWe connect the wrapper to an input sine signal\n(*Modelica.Blocks.Sources.Sine*) and to an output block\n(*Modelica.Blocks.Interfaces.RealOutput*):\n\n<img src=\"file://_static/TestMyExponential.png\" width=\"264px\" height=\"252px\" scale=\"100 %\" alt=\"alternate text\" align=\"center\">\n\nWe simulate the model on 1 second, with 50 time steps. We can verify that `y`\noutput corresponds to the exponential of the sine signal.\n\n<img src=\"file://_static/show_output.png\" width=\"264px\" height=\"252px\" scale=\"100 %\" alt=\"alternate text\" align=\"center\">\n\n<div class=\"alert alert-danger\"><h4>Warning</h4><p>\u26a0\ufe0f Compared to native Modelica functions, the included OpenTURNS function is\n   slow. In this case, 11 seconds of simulation were required for 50 time\n   steps (i.e. 50 function calls).</p></div>\n\nNote that faster export modes are available with the \"mode\" keyword, depending on your setup.\n\n"
      ]
    }
  ],
  "metadata": {
    "kernelspec": {
      "display_name": "Python 3",
      "language": "python",
      "name": "python3"
    },
    "language_info": {
      "codemirror_mode": {
        "name": "ipython",
        "version": 3
      },
      "file_extension": ".py",
      "mimetype": "text/x-python",
      "name": "python",
      "nbconvert_exporter": "python",
      "pygments_lexer": "ipython3",
      "version": "3.12.4"
    }
  },
  "nbformat": 4,
  "nbformat_minor": 0
}