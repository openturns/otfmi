{
  "cells": [
    {
      "cell_type": "markdown",
      "metadata": {},
      "source": [
        "\n# FMUPointToFieldFunction basics\n"
      ]
    },
    {
      "cell_type": "markdown",
      "metadata": {},
      "source": [
        "``otfmi.FMUPointToFieldFunction`` wraps the FMU into an\n:py:class:`openturns.PointToFieldFunction` object.\nThis kind of function accepts :py:class:`openturns.Point` or\n:py:class:`openturns.Sample` as inputs, and outputs a\n:py:class:`openturns.Sample` or a set of :py:class:`openturns.Field`.\n\n"
      ]
    },
    {
      "cell_type": "markdown",
      "metadata": {},
      "source": [
        "------------\n\n"
      ]
    },
    {
      "cell_type": "markdown",
      "metadata": {},
      "source": [
        "First, retrieve the path to *epid.fmu*.\nRecall the deviation model is dynamic, i.e. its output evolves over\ntime.\n\n"
      ]
    },
    {
      "cell_type": "code",
      "execution_count": null,
      "metadata": {
        "collapsed": false
      },
      "outputs": [],
      "source": [
        "import openturns as ot\nimport otfmi.example.utility\nimport matplotlib.pyplot as plt\nimport openturns.viewer as viewer\n\n\npath_fmu = otfmi.example.utility.get_path_fmu(\"epid\")"
      ]
    },
    {
      "cell_type": "markdown",
      "metadata": {},
      "source": [
        "Define the time grid for the FMU's output. The last value of the time grid,\nhere 10., will define the FMU stop time for simulation.\n\n"
      ]
    },
    {
      "cell_type": "code",
      "execution_count": null,
      "metadata": {
        "collapsed": false
      },
      "outputs": [],
      "source": [
        "mesh = ot.RegularGrid(0.0, 0.1, 100)\nmeshSample = mesh.getVertices()\nprint(meshSample)"
      ]
    },
    {
      "cell_type": "markdown",
      "metadata": {},
      "source": [
        "<div class=\"alert alert-info\"><h4>Note</h4><p>The FMU solver uses its own time grid for simulation.\n   The FMU output is then interpolated on the user-provided time grid.</p></div>\n\n"
      ]
    },
    {
      "cell_type": "markdown",
      "metadata": {},
      "source": [
        "Wrap the FMU in an :py:class:`openturns.PointToFieldFunction` object:\n\n"
      ]
    },
    {
      "cell_type": "code",
      "execution_count": null,
      "metadata": {
        "collapsed": false
      },
      "outputs": [],
      "source": [
        "function = otfmi.FMUPointToFieldFunction(\n    mesh,\n    path_fmu,\n    inputs_fmu=[\"infection_rate\"],\n    outputs_fmu=[\"infected\"],\n    start_time=0.0,\n    final_time=10.0,\n)\nprint(type(function))"
      ]
    },
    {
      "cell_type": "markdown",
      "metadata": {},
      "source": [
        "<div class=\"alert alert-info\"><h4>Note</h4><p>The start and final times must define an interval comprising the mesh.\n   Setting manually the start and final times is recommended to avoid\n   uncontrolled simulation duration.</p></div>\n\n"
      ]
    },
    {
      "cell_type": "markdown",
      "metadata": {},
      "source": [
        "Simulate the function on an input :py:class:`openturns.Point` yields an output\n:py:class:`openturns.Sample`, corresponding to the output evolution over time:\n\n"
      ]
    },
    {
      "cell_type": "code",
      "execution_count": null,
      "metadata": {
        "collapsed": false
      },
      "outputs": [],
      "source": [
        "inputPoint = ot.Point([0.007])\noutputSample = function(inputPoint)\n\nplt.xlabel(\"FMU simulation time (s)\")\nplt.ylabel(\"Number of Infected\")\nplt.plot(meshSample, outputSample)\nplt.show()"
      ]
    },
    {
      "cell_type": "markdown",
      "metadata": {},
      "source": [
        "Simulate the function on a input :py:class:`openturns.Sample` yields a set of\nfields called :py:class:`openturns.ProcessSample`:\n\n"
      ]
    },
    {
      "cell_type": "code",
      "execution_count": null,
      "metadata": {
        "collapsed": false
      },
      "outputs": [],
      "source": [
        "inputSample = ot.Sample([[0.007], [0.005], [0.003]])\noutputProcessSample = function(inputSample)\nprint(outputProcessSample)"
      ]
    },
    {
      "cell_type": "markdown",
      "metadata": {},
      "source": [
        "Visualize the time evolution of the ``infected`` over time, depending on the\n`\u00ecnfection_rate`` value:\n\n"
      ]
    },
    {
      "cell_type": "code",
      "execution_count": null,
      "metadata": {
        "collapsed": false
      },
      "outputs": [],
      "source": [
        "gridLayout = outputProcessSample.draw()\ngraph = gridLayout.getGraph(0, 0)\ngraph.setTitle(\"\")\ngraph.setXTitle(\"FMU simulation time (s)\")\ngraph.setYTitle(\"Number of infected\")\ngraph.setLegends([str(line[0]) for line in inputSample])\nview = viewer.View(graph, legend_kw={\"title\": \"infection rate\"})\nview.ShowAll()"
      ]
    }
  ],
  "metadata": {
    "kernelspec": {
      "display_name": "Python 3",
      "language": "python",
      "name": "python3"
    },
    "language_info": {
      "codemirror_mode": {
        "name": "ipython",
        "version": 3
      },
      "file_extension": ".py",
      "mimetype": "text/x-python",
      "name": "python",
      "nbconvert_exporter": "python",
      "pygments_lexer": "ipython3",
      "version": "3.12.4"
    }
  },
  "nbformat": 4,
  "nbformat_minor": 0
}