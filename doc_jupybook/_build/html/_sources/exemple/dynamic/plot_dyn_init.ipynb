{
  "cells": [
    {
      "cell_type": "markdown",
      "metadata": {},
      "source": [
        "\n# Initialize FMUPointToFieldFunction\n"
      ]
    },
    {
      "cell_type": "markdown",
      "metadata": {},
      "source": [
        "The interest of using FMUs in Python lies in the ease to change its input\n/ parameter values. This notably enables to study the behavior of the FMU\nwith uncertain inputs / parameters.\n\n"
      ]
    },
    {
      "cell_type": "markdown",
      "metadata": {},
      "source": [
        "Initialization scripts can gather a large number of initial values.\nThe use of initialization scripts (*.mos* files) is common in Dymola :\n\n- to save the value of all the variables of a model after simulation,\n- to restart simulation from a given point.\n\n"
      ]
    },
    {
      "cell_type": "markdown",
      "metadata": {},
      "source": [
        "------------\n\n"
      ]
    },
    {
      "cell_type": "markdown",
      "metadata": {},
      "source": [
        "First, retrieve the path to the FMU *deviation.fmu*.\nRecall the epidemiological model is dynamic, i.e. its output evolves over\ntime.\n\n"
      ]
    },
    {
      "cell_type": "code",
      "execution_count": null,
      "metadata": {
        "collapsed": false
      },
      "outputs": [],
      "source": [
        "import otfmi.example.utility\nimport otfmi\nimport openturns as ot\nfrom os.path import abspath\nimport openturns.viewer as viewer\n\npath_fmu = otfmi.example.utility.get_path_fmu(\"epid\")"
      ]
    },
    {
      "cell_type": "markdown",
      "metadata": {},
      "source": [
        "The initialization script must be provided to `FMUPointToFieldFunction`\nconstructor. We thus create it now (using Python for clarity).\n\n"
      ]
    },
    {
      "cell_type": "markdown",
      "metadata": {},
      "source": [
        "<div class=\"alert alert-info\"><h4>Note</h4><p>The initialization script can be automatically created in Dymola.</p></div>\n\n"
      ]
    },
    {
      "cell_type": "code",
      "execution_count": null,
      "metadata": {
        "collapsed": false
      },
      "outputs": [],
      "source": [
        "temporary_file = \"initialization.mos\"\nwith open(temporary_file, \"w\") as f:\n    f.write(\"total_pop = 500;\\n\")\n    f.write(\"healing_rate = 0.02;\\n\")"
      ]
    },
    {
      "cell_type": "markdown",
      "metadata": {},
      "source": [
        "If no initial value is provided for an input / parameter, it is set to its\ndefault initial value (as set in the FMU).\n\n"
      ]
    },
    {
      "cell_type": "markdown",
      "metadata": {},
      "source": [
        "We are interested in the model output during the 2 first seconds of simulation\n(which corresponds to a specific moment in the epidemic spreading).\nWe must create the time grid on which the model output will be interpolated.\n\n"
      ]
    },
    {
      "cell_type": "code",
      "execution_count": null,
      "metadata": {
        "collapsed": false
      },
      "outputs": [],
      "source": [
        "mesh = ot.RegularGrid(0.0, 0.1, 20)\nmeshSample = mesh.getVertices()\nprint(meshSample)"
      ]
    },
    {
      "cell_type": "markdown",
      "metadata": {},
      "source": [
        "We can now build the `FMUPointToFieldFunction`. In the example below, we use\nthe initialization script to fix the (non-default) values of ``total_pop`` and\n``healing_rate`` in the FMU. We can thus observe the evolution of ``infected``\ndepending on the ``infection_rate``.\n\n"
      ]
    },
    {
      "cell_type": "code",
      "execution_count": null,
      "metadata": {
        "collapsed": false
      },
      "outputs": [],
      "source": [
        "function = otfmi.FMUPointToFieldFunction(\n    mesh,\n    path_fmu,\n    inputs_fmu=[\"infection_rate\"],\n    outputs_fmu=[\"infected\"],\n    initialization_script=abspath(\"initialization.mos\"),\n    start_time=0.0,\n    final_time=5.0,\n)"
      ]
    },
    {
      "cell_type": "markdown",
      "metadata": {},
      "source": [
        "``total_pop`` and ``healing_rate`` values are defined in the initialization\nscript, and remain constant over time. We can now set probability laws on the\nfunction input variable ``infection_rate`` to propagate its uncertainty\nthrough the model:\n\n"
      ]
    },
    {
      "cell_type": "code",
      "execution_count": null,
      "metadata": {
        "collapsed": false
      },
      "outputs": [],
      "source": [
        "lawInfected = ot.Normal(0.01, 0.003)\ninputSample = lawInfected.getSample(10)\noutputProcessSample = function(inputSample)"
      ]
    },
    {
      "cell_type": "markdown",
      "metadata": {},
      "source": [
        "Visualize the time evolution of the ``infected`` over time, depending on the\n`\u00ecnfection_rate`` value:\n\n"
      ]
    },
    {
      "cell_type": "code",
      "execution_count": null,
      "metadata": {
        "collapsed": false
      },
      "outputs": [],
      "source": [
        "gridLayout = outputProcessSample.draw()\ngraph = gridLayout.getGraph(0, 0)\ngraph.setTitle(\"\")\ngraph.setXTitle(\"FMU simulation time (s)\")\ngraph.setYTitle(\"Number of infected\")\ngraph.setLegends([\"{:.4f}\".format(line[0]) for line in inputSample])\nview = viewer.View(graph, legend_kw={\"title\": \"infection rate\", \"loc\": \"upper left\"})\nview.ShowAll()"
      ]
    }
  ],
  "metadata": {
    "kernelspec": {
      "display_name": "Python 3",
      "language": "python",
      "name": "python3"
    },
    "language_info": {
      "codemirror_mode": {
        "name": "ipython",
        "version": 3
      },
      "file_extension": ".py",
      "mimetype": "text/x-python",
      "name": "python",
      "nbconvert_exporter": "python",
      "pygments_lexer": "ipython3",
      "version": "3.12.4"
    }
  },
  "nbformat": 4,
  "nbformat_minor": 0
}