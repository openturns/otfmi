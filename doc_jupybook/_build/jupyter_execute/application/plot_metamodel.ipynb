{
 "cells": [
  {
   "cell_type": "markdown",
   "metadata": {},
   "source": [
    "\n",
    "# Metamodel a FMU time-dependent output\n"
   ]
  },
  {
   "cell_type": "markdown",
   "metadata": {},
   "source": [
    "We are interested in the evolution of an epidemic through a\n",
    "population (for instance, Covid!). We have an epidemiologic model describing\n",
    "the epidemic dynamics. More precisely, we focus on the evolution of the number\n",
    "of people infected by the disease.\n",
    "\n",
    "<img src=\"../_static/epid.png\" width=\"400px\" height=\"300px\" scale=\"100 %\" alt=\"alternate text\" align=\"center\">\n",
    "\n",
    "--------\n",
    "\n",
    "See the epidemiological model [here](../sample_fmu_files/epid.rst).\n",
    "\n",
    "--------\n",
    "\n",
    "**To decrease the model simulation costs, let's create a metamodel.**\n",
    "\n",
    "Metamodeling a model which output depends on time is a difficult problem. We\n",
    "will combine two methods: Karhunen-Loeve dimension reduction should precede the Kriging metamodeling.\n",
    "\n",
    "We will proceed the following way:\n",
    "\n",
    "- simulate the FMU *n* times on a design of experiment,\n",
    "- concentrate the information of the time-dependent output via Karhunen-Loeve,\n",
    "- metamodel the Karhunen-Loeve coefficients.\n",
    "\n",
    "The composition of the coefficients metamodel with the inverse\n",
    "Karhunen-Loeve will make the global metamodel."
   ]
  },
  {
   "cell_type": "markdown",
   "metadata": {},
   "source": [
    "## Create the metamodel\n",
    "\n"
   ]
  },
  {
   "cell_type": "markdown",
   "metadata": {},
   "source": [
    "We load the FMU as a FMUPointToFieldFunction (see the\n",
    "[tutorial](../api_doc/from_openturns_to_fmi.rst)). We concentrate on the first time unit of the epidemiological model output. The single uncertain input of the model is the ``ìnfection_rate``."
   ]
  },
  {
   "cell_type": "code",
   "execution_count": 1,
   "metadata": {
    "collapsed": false
   },
   "outputs": [
    {
     "ename": "ModuleNotFoundError",
     "evalue": "No module named 'otfmi.example'",
     "output_type": "error",
     "traceback": [
      "\u001b[0;31m---------------------------------------------------------------------------\u001b[0m",
      "\u001b[0;31mModuleNotFoundError\u001b[0m                       Traceback (most recent call last)",
      "Cell \u001b[0;32mIn[1], line 1\u001b[0m\n\u001b[0;32m----> 1\u001b[0m \u001b[38;5;28;01mimport\u001b[39;00m \u001b[38;5;21;01motfmi\u001b[39;00m\u001b[38;5;21;01m.\u001b[39;00m\u001b[38;5;21;01mexample\u001b[39;00m\u001b[38;5;21;01m.\u001b[39;00m\u001b[38;5;21;01mutility\u001b[39;00m\n\u001b[1;32m      2\u001b[0m \u001b[38;5;28;01mimport\u001b[39;00m \u001b[38;5;21;01mopenturns\u001b[39;00m \u001b[38;5;28;01mas\u001b[39;00m \u001b[38;5;21;01mot\u001b[39;00m\n\u001b[1;32m      3\u001b[0m \u001b[38;5;28;01mimport\u001b[39;00m \u001b[38;5;21;01mopenturns\u001b[39;00m\u001b[38;5;21;01m.\u001b[39;00m\u001b[38;5;21;01mviewer\u001b[39;00m \u001b[38;5;28;01mas\u001b[39;00m \u001b[38;5;21;01mviewer\u001b[39;00m\n",
      "\u001b[0;31mModuleNotFoundError\u001b[0m: No module named 'otfmi.example'"
     ]
    }
   ],
   "source": [
    "import otfmi.example.utility\n",
    "import openturns as ot\n",
    "import openturns.viewer as viewer\n",
    "\n",
    "path_fmu = otfmi.example.utility.get_path_fmu(\"epid\")\n",
    "mesh = ot.RegularGrid(0.0, 0.05, 20)\n",
    "meshSample = mesh.getVertices()\n",
    "\n",
    "function = otfmi.FMUPointToFieldFunction(\n",
    "    mesh,\n",
    "    path_fmu,\n",
    "    inputs_fmu=[\"infection_rate\"],\n",
    "    outputs_fmu=[\"infected\"],\n",
    "    start_time=0.0,\n",
    "    final_time=1.0,\n",
    ")"
   ]
  },
  {
   "cell_type": "markdown",
   "metadata": {},
   "source": [
    "We create a Monte-Carlo design of experiment, on which we\n",
    "simulate the FMU.\n",
    "The simulation inputs and outputs will be used to train the metamodel.\n",
    "\n"
   ]
  },
  {
   "cell_type": "code",
   "execution_count": null,
   "metadata": {
    "collapsed": false
   },
   "outputs": [],
   "source": [
    "inputLaw = ot.Uniform(0.001, 0.01)\n",
    "inputSample = inputLaw.getSample(30)\n",
    "outputFMUSample = function(inputSample)\n",
    "\n",
    "graph = outputFMUSample.draw().getGraph(0, 0)\n",
    "graph.setTitle(\"FMU simulations\")\n",
    "graph.setXTitle(\"Time\")\n",
    "graph.setYTitle(\"Number of infected\")\n",
    "graph.setLegends([\"{:.3f}\".format(line[0]) for line in inputSample])\n",
    "view = viewer.View(graph, legend_kw={\"title\": \"infection rate\", \"loc\": \"upper left\"})\n",
    "view.ShowAll()"
   ]
  },
  {
   "cell_type": "markdown",
   "metadata": {},
   "source": [
    "We define a function to visualize the upcoming Karhunen-Loevem modes.\n",
    "\n"
   ]
  },
  {
   "cell_type": "code",
   "execution_count": null,
   "metadata": {
    "collapsed": false
   },
   "outputs": [],
   "source": [
    "def drawKL(scaledKL, KLev, mesh, title=\"Scaled KL modes\"):\n",
    "    graph_modes = scaledKL.drawMarginal()\n",
    "    graph_modes.setTitle(title + \" scaled KL modes\")\n",
    "    graph_modes.setXTitle(\"$x$\")\n",
    "    graph_modes.setYTitle(r\"$\\sqrt{\\lambda_i}\\phi_i$\")\n",
    "    data_ev = [[i, KLev[i]] for i in range(scaledKL.getSize())]\n",
    "    graph_ev = ot.Graph()\n",
    "    graph_ev.add(ot.Curve(data_ev))\n",
    "    graph_ev.add(ot.Cloud(data_ev))\n",
    "    graph_ev.setTitle(title + \" KL eigenvalues\")\n",
    "    graph_ev.setXTitle(\"$k$\")\n",
    "    graph_ev.setYTitle(r\"$\\lambda_i$\")\n",
    "    graph_ev.setAxes(True)\n",
    "    graph_ev.setGrid(True)\n",
    "    graph_ev.setLogScale(2)\n",
    "    bb = graph_ev.getBoundingBox()\n",
    "    lower = bb.getLowerBound()\n",
    "    lower[1] = 1.0e-7\n",
    "    bb = ot.Interval(lower, bb.getUpperBound())\n",
    "    graph_ev.setBoundingBox(bb)\n",
    "    return graph_modes, graph_ev"
   ]
  },
  {
   "cell_type": "markdown",
   "metadata": {},
   "source": [
    "We compute the Karhunen-Loeve decomposition of the model outputs.\n",
    "The underlying assumption is that these outputs are realizations of a\n",
    "stochastic process.\n",
    "\n"
   ]
  },
  {
   "cell_type": "code",
   "execution_count": null,
   "metadata": {
    "collapsed": false
   },
   "outputs": [],
   "source": [
    "threshold = 0.0001\n",
    "algoKL = ot.KarhunenLoeveSVDAlgorithm(outputFMUSample, threshold)\n",
    "algoKL.run()\n",
    "resultKL = algoKL.getResult()"
   ]
  },
  {
   "cell_type": "markdown",
   "metadata": {},
   "source": [
    "Let be curious and plot the Karhunen-Loeve modes:\n",
    "\n"
   ]
  },
  {
   "cell_type": "code",
   "execution_count": null,
   "metadata": {
    "collapsed": false
   },
   "outputs": [],
   "source": [
    "phi_Y = resultKL.getScaledModesAsProcessSample()\n",
    "lambda_Y = resultKL.getEigenvalues()\n",
    "graph_modes_Y, graph_ev_Y = drawKL(phi_Y, lambda_Y, mesh, \"Y\")\n",
    "view = viewer.View(graph_modes_Y)\n",
    "view.ShowAll()"
   ]
  },
  {
   "cell_type": "markdown",
   "metadata": {},
   "source": [
    "Now that Karhunen-Loeve algorithm is trained, we can project them\n",
    "in the smaller-dimension space:\n",
    "\n"
   ]
  },
  {
   "cell_type": "code",
   "execution_count": null,
   "metadata": {
    "collapsed": false
   },
   "outputs": [],
   "source": [
    "projectionSample = resultKL.project(outputFMUSample)\n",
    "n_mode = projectionSample.getDimension()\n",
    "print(\"Karhunen-Loeve projection is dimension {}\".format(n_mode))"
   ]
  },
  {
   "cell_type": "markdown",
   "metadata": {},
   "source": [
    "We keep on following our road map, by metamodeling the projection\n",
    "of the curves on the smaller-dimension space.\n",
    "We metamodel the Karhunen-Loeve coefficients using ordinary Kriging.\n",
    "\n"
   ]
  },
  {
   "cell_type": "code",
   "execution_count": null,
   "metadata": {
    "collapsed": false
   },
   "outputs": [],
   "source": [
    "dim = inputSample.getDimension()  # only 1 input dimension\n",
    "univb = ot.ConstantBasisFactory(dim).build()  # univariate basis\n",
    "coll = [ot.AggregatedFunction([univb.build(i)] * n_mode) for i in range(univb.getSize())]\n",
    "basis = ot.Basis(coll)  # multivariate basis\n",
    "covarianceModel = ot.SquaredExponential(dim)\n",
    "covarianceModel = ot.TensorizedCovarianceModel([covarianceModel] * n_mode)\n",
    "\n",
    "\n",
    "algo = ot.KrigingAlgorithm(inputSample, projectionSample, covarianceModel, basis)\n",
    "algo.run()\n",
    "result = algo.getResult()\n",
    "metamodel = result.getMetaModel()"
   ]
  },
  {
   "cell_type": "markdown",
   "metadata": {},
   "source": [
    "We have created all pieces for a \"PointToField\" metamodel. Let put these\n",
    "pieces together:\n",
    "\n"
   ]
  },
  {
   "cell_type": "code",
   "execution_count": null,
   "metadata": {
    "collapsed": false
   },
   "outputs": [],
   "source": [
    "def globalMetamodel(sample):\n",
    "    emulatedCoefficients = metamodel(sample)\n",
    "    restoreFunction = ot.KarhunenLoeveLifting(resultKL)\n",
    "    emulatedProcessSample = restoreFunction(emulatedCoefficients)\n",
    "    return emulatedProcessSample"
   ]
  },
  {
   "cell_type": "markdown",
   "metadata": {},
   "source": [
    "## Validate the metamodel\n",
    "\n"
   ]
  },
  {
   "cell_type": "markdown",
   "metadata": {},
   "source": [
    "We create a new Monte-Carlo design of experiment. On this design of\n",
    "experiment, the FMU is simulated as well as the metamodel.\n",
    "\n"
   ]
  },
  {
   "cell_type": "code",
   "execution_count": null,
   "metadata": {
    "collapsed": false
   },
   "outputs": [],
   "source": [
    "inputTestSample = inputLaw.getSample(10)\n",
    "outputFMUTestSample = function(inputTestSample)\n",
    "outputMetamodelTestSample = globalMetamodel(inputTestSample)"
   ]
  },
  {
   "cell_type": "markdown",
   "metadata": {},
   "source": [
    "First, we have a visual check:\n",
    "\n"
   ]
  },
  {
   "cell_type": "code",
   "execution_count": null,
   "metadata": {
    "collapsed": false
   },
   "outputs": [],
   "source": [
    "gridLayout = ot.GridLayout(1, 2)\n",
    "\n",
    "graph1 = outputFMUTestSample.draw().getGraph(0, 0)\n",
    "graph1.setTitle(\"FMU simulations\")\n",
    "graph2 = outputMetamodelTestSample.draw().getGraph(0, 0)\n",
    "graph2.setTitle(\"Metamodel\")\n",
    "\n",
    "for graph in [graph1, graph2]:\n",
    "    graph.setXTitle(\"Time\")\n",
    "    graph.setYTitle(\"Number of infected\")\n",
    "    graph.setLegends([\"{:.3f}\".format(line[0]) for line in inputSample])\n",
    "\n",
    "gridLayout.setGraph(0, 0, graph1)\n",
    "gridLayout.setGraph(0, 1, graph2)\n",
    "view = viewer.View(\n",
    "    gridLayout, legend_kw={\"title\": \"infection rate\", \"loc\": \"upper left\"}\n",
    ")\n",
    "view.ShowAll()"
   ]
  },
  {
   "cell_type": "markdown",
   "metadata": {},
   "source": [
    "We validate the pertinence of Karhunen-Loeve decomposition:\n",
    "\n"
   ]
  },
  {
   "cell_type": "code",
   "execution_count": null,
   "metadata": {
    "collapsed": false
   },
   "outputs": [],
   "source": [
    "validationKL = ot.KarhunenLoeveValidation(outputFMUTestSample, resultKL)\n",
    "graph = validationKL.computeResidualMean().draw()\n",
    "ot.Show(graph)"
   ]
  },
  {
   "cell_type": "markdown",
   "metadata": {},
   "source": [
    "As the epidemiological model considers a population size of 700, the residual\n",
    "mean error on the field is acceptable.\n",
    "\n"
   ]
  },
  {
   "cell_type": "markdown",
   "metadata": {},
   "source": [
    "We validate the Kriging (using the Karhunen-Loeve coefficients of the test\n",
    "sample):\n",
    "\n"
   ]
  },
  {
   "cell_type": "code",
   "execution_count": null,
   "metadata": {
    "collapsed": false
   },
   "outputs": [],
   "source": [
    "projectFunction = ot.KarhunenLoeveProjection(resultKL)\n",
    "coefficientSample = projectFunction(outputFMUTestSample)\n",
    "\n",
    "validationKriging = ot.MetaModelValidation(\n",
    "    inputTestSample, coefficientSample, metamodel\n",
    ")\n",
    "Q2 = validationKriging.computePredictivityFactor()[0]\n",
    "print(Q2)"
   ]
  },
  {
   "cell_type": "markdown",
   "metadata": {},
   "source": [
    "The predictivity factor is very close to 1, which is satisfying.\n",
    "Further statistical tests exist in\n",
    "[OpenTURNS](http://openturns.github.io/openturns/master/contents.html) to\n",
    "assert the quality of the obtained metamodel.\n",
    "\n"
   ]
  },
  {
   "cell_type": "markdown",
   "metadata": {},
   "source": [
    "----------------------\n",
    "\n",
    "The ``globalMetamodel`` (computationnally faster than the FMU) created with\n",
    "the above script can now be used as a computationnally much cheaper\n",
    "substitute to the FMU for\n",
    "\n",
    "- [sensitivity analysis](openturns.github.io/openturns/latest/auto_reliability_sensitivity/index.html#sensitivity-analysis),\n",
    "- [parameter inference](openturns.github.io/openturns/latest/auto_calibration/index.html#bayesian-calibration),\n",
    "- [estimate a failure probability](openturns.github.io/openturns/latest/auto_reliability_sensitivity/index.html#reliability),\n",
    "\n",
    "etc.\n",
    "\n"
   ]
  }
 ],
 "metadata": {
  "kernelspec": {
   "display_name": "Python 3",
   "language": "python",
   "name": "python3"
  },
  "language_info": {
   "codemirror_mode": {
    "name": "ipython",
    "version": 3
   },
   "file_extension": ".py",
   "mimetype": "text/x-python",
   "name": "python",
   "nbconvert_exporter": "python",
   "pygments_lexer": "ipython3",
   "version": "3.12.4"
  }
 },
 "nbformat": 4,
 "nbformat_minor": 0
}