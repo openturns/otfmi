{
 "cells": [
  {
   "cell_type": "markdown",
   "metadata": {},
   "source": [
    "\n",
    "# Estimate the probability of a threshold excedance\n"
   ]
  },
  {
   "cell_type": "markdown",
   "metadata": {},
   "source": [
    "A load is applied to a cantilever beam. For construction\n",
    "reasons, the beam must not exceed a bending of 30 cm. The load (F), beam\n",
    "Young's modulus (E), length (L) and section modulus (I) are uncertain.\n",
    "\n",
    "<img src=\"../_static/beam.png\" alt=\"Beam Model\" width=\"264px\" height=\"252px\" style=\"display: block; margin-left: auto; margin-right: auto;\" />\n",
    "\n",
    "--------\n",
    "\n",
    "See the cantilever beam model [here](../sample_fmu_files/deviation.rst).\n",
    "\n",
    "--------\n",
    "\n",
    "**What is the probability that the deviation exceeds the\n",
    "threshold ?**\n",
    "\n",
    "We load the FMU as a FMUFunction (see the [tutorial](../api_doc/api_documentation.rst)):"
   ]
  },
  {
   "cell_type": "code",
   "execution_count": 1,
   "metadata": {
    "collapsed": false
   },
   "outputs": [
    {
     "ename": "ModuleNotFoundError",
     "evalue": "No module named 'otfmi.example'",
     "output_type": "error",
     "traceback": [
      "\u001b[0;31m---------------------------------------------------------------------------\u001b[0m",
      "\u001b[0;31mModuleNotFoundError\u001b[0m                       Traceback (most recent call last)",
      "Cell \u001b[0;32mIn[1], line 3\u001b[0m\n\u001b[1;32m      1\u001b[0m \u001b[38;5;28;01mimport\u001b[39;00m \u001b[38;5;21;01mopenturns\u001b[39;00m \u001b[38;5;28;01mas\u001b[39;00m \u001b[38;5;21;01mot\u001b[39;00m\n\u001b[1;32m      2\u001b[0m \u001b[38;5;28;01mimport\u001b[39;00m \u001b[38;5;21;01motfmi\u001b[39;00m\n\u001b[0;32m----> 3\u001b[0m \u001b[38;5;28;01mimport\u001b[39;00m \u001b[38;5;21;01motfmi\u001b[39;00m\u001b[38;5;21;01m.\u001b[39;00m\u001b[38;5;21;01mexample\u001b[39;00m\u001b[38;5;21;01m.\u001b[39;00m\u001b[38;5;21;01mutility\u001b[39;00m\n\u001b[1;32m      4\u001b[0m \u001b[38;5;28;01mfrom\u001b[39;00m \u001b[38;5;21;01mopenturns\u001b[39;00m\u001b[38;5;21;01m.\u001b[39;00m\u001b[38;5;21;01mviewer\u001b[39;00m \u001b[38;5;28;01mimport\u001b[39;00m View\n\u001b[1;32m      6\u001b[0m path_fmu \u001b[38;5;241m=\u001b[39m otfmi\u001b[38;5;241m.\u001b[39mexample\u001b[38;5;241m.\u001b[39mutility\u001b[38;5;241m.\u001b[39mget_path_fmu(\u001b[38;5;124m\"\u001b[39m\u001b[38;5;124mdeviation\u001b[39m\u001b[38;5;124m\"\u001b[39m)\n",
      "\u001b[0;31mModuleNotFoundError\u001b[0m: No module named 'otfmi.example'"
     ]
    }
   ],
   "source": [
    "import openturns as ot\n",
    "import otfmi\n",
    "import otfmi.example.utility\n",
    "from openturns.viewer import View\n",
    "\n",
    "path_fmu = otfmi.example.utility.get_path_fmu(\"deviation\")\n",
    "\n",
    "model_fmu = otfmi.FMUFunction(\n",
    "    path_fmu, inputs_fmu=[\"E\", \"F\", \"L\", \"I\"], outputs_fmu=\"y\"\n",
    ")"
   ]
  },
  {
   "cell_type": "markdown",
   "metadata": {},
   "source": [
    "We test the function wrapping the deviation model on a point:\n",
    "\n"
   ]
  },
  {
   "cell_type": "code",
   "execution_count": null,
   "metadata": {
    "collapsed": false
   },
   "outputs": [],
   "source": [
    "point = ot.Point([3e7, 2e4, 255, 350])\n",
    "model_evaluation = model_fmu(point)\n",
    "print(\"Running the FMU: deviation = {}\".format(model_evaluation))"
   ]
  },
  {
   "cell_type": "markdown",
   "metadata": {},
   "source": [
    "We define probability laws on the 4 uncertain inputs:\n",
    "\n"
   ]
  },
  {
   "cell_type": "code",
   "execution_count": null,
   "metadata": {
    "collapsed": false
   },
   "outputs": [],
   "source": [
    "E = ot.Beta(0.93, 3.2, 2.8e7, 4.8e7)\n",
    "F = ot.LogNormal()\n",
    "F.setParameter(ot.LogNormalMuSigma()([30.0e3, 9e3, 15.0e3]))\n",
    "L = ot.Uniform(250.0, 260.0)\n",
    "II = ot.Beta(2.5, 4.0, 310.0, 450.0)"
   ]
  },
  {
   "cell_type": "markdown",
   "metadata": {},
   "source": [
    "According to the laws of mechanics, when the length L increases, the moment\n",
    "of inertia I decreases.\n",
    "The variables L and I are thus negatively correlated.\n",
    "\n",
    "**We assume that the random variables E, F, L and I are dependent and\n",
    "associated with a gaussian copula which correlation matrix:**\n",
    "\n",
    "\\begin{align}\\begin{pmatrix}\n",
    "   1 & 0 & 0 & 0 \\\\\n",
    "   0 & 1 & 0 & 0 \\\\\n",
    "   0 & 0 & 1 & -0.2 \\\\\n",
    "   0 & 0 & -0.2 & 1 \\\\\n",
    "   \\end{pmatrix}\\end{align}\n",
    "\n"
   ]
  },
  {
   "cell_type": "markdown",
   "metadata": {},
   "source": [
    "We implement this correlation:\n",
    "\n"
   ]
  },
  {
   "cell_type": "code",
   "execution_count": null,
   "metadata": {
    "collapsed": false
   },
   "outputs": [],
   "source": [
    "# Create the Spearman correlation matrix of the input random vector\n",
    "RS = ot.CorrelationMatrix(4)\n",
    "RS[2, 3] = -0.2\n",
    "\n",
    "# Evaluate the correlation matrix of the Normal copula from RS\n",
    "R = ot.NormalCopula.GetCorrelationFromSpearmanCorrelation(RS)\n",
    "\n",
    "# Create the Normal copula parametrized by R\n",
    "mycopula = ot.NormalCopula(R)"
   ]
  },
  {
   "cell_type": "markdown",
   "metadata": {},
   "source": [
    "And we endly create the composed input probability distribution.\n",
    "\n"
   ]
  },
  {
   "cell_type": "code",
   "execution_count": null,
   "metadata": {
    "collapsed": false
   },
   "outputs": [],
   "source": [
    "inputDistribution = ot.ComposedDistribution([E, F, L, II], mycopula)\n",
    "inputDistribution.setDescription(model_fmu.getInputDescription())"
   ]
  },
  {
   "cell_type": "markdown",
   "metadata": {},
   "source": [
    "Create the event whose probability we want to estimate:\n",
    "\n"
   ]
  },
  {
   "cell_type": "code",
   "execution_count": null,
   "metadata": {
    "collapsed": false
   },
   "outputs": [],
   "source": [
    "inputRandomVector = ot.RandomVector(inputDistribution)\n",
    "outputVariableOfInterest = ot.CompositeRandomVector(model_fmu, inputRandomVector)\n",
    "\n",
    "threshold = 30\n",
    "event = ot.ThresholdEvent(outputVariableOfInterest, ot.Greater(), threshold)\n",
    "event.setName(\"Deviation > %g cm\" % threshold)"
   ]
  },
  {
   "cell_type": "markdown",
   "metadata": {},
   "source": [
    "Parameterize and run the Monte Carlo algorithm:\n",
    "\n"
   ]
  },
  {
   "cell_type": "code",
   "execution_count": null,
   "metadata": {
    "collapsed": false
   },
   "outputs": [],
   "source": [
    "ot.RandomGenerator.SetSeed(23091926)  # set seed for reproducibility\n",
    "\n",
    "experiment = ot.MonteCarloExperiment()\n",
    "algo = ot.ProbabilitySimulationAlgorithm(event, experiment)\n",
    "algo.setMaximumOuterSampling(200)\n",
    "algo.setMaximumCoefficientOfVariation(0.2)\n",
    "algo.run()"
   ]
  },
  {
   "cell_type": "markdown",
   "metadata": {},
   "source": [
    "Draw the distribution of threshold excedance probability:\n",
    "\n"
   ]
  },
  {
   "cell_type": "code",
   "execution_count": null,
   "metadata": {
    "collapsed": false
   },
   "outputs": [],
   "source": [
    "monte_carlo_result = algo.getResult()\n",
    "probabilityDistribution = monte_carlo_result.getProbabilityDistribution()\n",
    "graph = View(probabilityDistribution.drawPDF())"
   ]
  },
  {
   "cell_type": "markdown",
   "metadata": {},
   "source": [
    "Get the probability with which the beam deviation exceeds 30 cm:\n",
    "\n"
   ]
  },
  {
   "cell_type": "code",
   "execution_count": null,
   "metadata": {
    "collapsed": false
   },
   "outputs": [],
   "source": [
    "probability = monte_carlo_result.getProbabilityEstimate()\n",
    "print(\"Threshold excedance probability: {}\".format(probability))"
   ]
  },
  {
   "cell_type": "markdown",
   "metadata": {},
   "source": [
    "Given the uncertainties on the load applied and the beam mechanical\n",
    "parameters, the beam bending has a probability of 0.01 to exceed 30 cm.\n",
    "Is this probability low or not ? It depends on your context 🙂"
   ]
  }
 ],
 "metadata": {
  "kernelspec": {
   "display_name": "Python 3",
   "language": "python",
   "name": "python3"
  },
  "language_info": {
   "codemirror_mode": {
    "name": "ipython",
    "version": 3
   },
   "file_extension": ".py",
   "mimetype": "text/x-python",
   "name": "python",
   "nbconvert_exporter": "python",
   "pygments_lexer": "ipython3",
   "version": "3.12.4"
  }
 },
 "nbformat": 4,
 "nbformat_minor": 0
}