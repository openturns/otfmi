{
 "cells": [
  {
   "cell_type": "markdown",
   "metadata": {},
   "source": [
    "\n",
    "# Set FMU simulation parameters\n"
   ]
  },
  {
   "cell_type": "markdown",
   "metadata": {},
   "source": [
    "``FMUFunction`` is an OpenTURNS-friendly overlay of the class\n",
    "``ÒpenTURNSFMUFunction``, closer to the underlying PyFMI implementation.\n",
    "Some FMU simulation parameters can be given to ``FMUFunction``, yet most of\n",
    "them can only be passed to an ``OpenTURNSFMUFunction``.\n",
    "\n"
   ]
  },
  {
   "cell_type": "markdown",
   "metadata": {},
   "source": [
    "------------\n",
    "\n"
   ]
  },
  {
   "cell_type": "markdown",
   "metadata": {},
   "source": [
    "First, retrieve the path to the FMU *deviation.fmu*.\n",
    "Recall the deviation model is static, i.e. its output does not evolve over\n",
    "time.\n",
    "\n"
   ]
  },
  {
   "cell_type": "code",
   "execution_count": 1,
   "metadata": {
    "collapsed": false
   },
   "outputs": [
    {
     "ename": "ModuleNotFoundError",
     "evalue": "No module named 'otfmi.example'",
     "output_type": "error",
     "traceback": [
      "\u001b[0;31m---------------------------------------------------------------------------\u001b[0m",
      "\u001b[0;31mModuleNotFoundError\u001b[0m                       Traceback (most recent call last)",
      "Cell \u001b[0;32mIn[1], line 1\u001b[0m\n\u001b[0;32m----> 1\u001b[0m \u001b[38;5;28;01mimport\u001b[39;00m \u001b[38;5;21;01motfmi\u001b[39;00m\u001b[38;5;21;01m.\u001b[39;00m\u001b[38;5;21;01mexample\u001b[39;00m\u001b[38;5;21;01m.\u001b[39;00m\u001b[38;5;21;01mutility\u001b[39;00m\n\u001b[1;32m      2\u001b[0m \u001b[38;5;28;01mimport\u001b[39;00m \u001b[38;5;21;01mopenturns\u001b[39;00m \u001b[38;5;28;01mas\u001b[39;00m \u001b[38;5;21;01mot\u001b[39;00m\n\u001b[1;32m      4\u001b[0m path_fmu \u001b[38;5;241m=\u001b[39m otfmi\u001b[38;5;241m.\u001b[39mexample\u001b[38;5;241m.\u001b[39mutility\u001b[38;5;241m.\u001b[39mget_path_fmu(\u001b[38;5;124m\"\u001b[39m\u001b[38;5;124mdeviation\u001b[39m\u001b[38;5;124m\"\u001b[39m)\n",
      "\u001b[0;31mModuleNotFoundError\u001b[0m: No module named 'otfmi.example'"
     ]
    }
   ],
   "source": [
    "import otfmi.example.utility\n",
    "import openturns as ot\n",
    "\n",
    "path_fmu = otfmi.example.utility.get_path_fmu(\"deviation\")"
   ]
  },
  {
   "cell_type": "markdown",
   "metadata": {},
   "source": [
    "The FMU simulation final time is the only simulation-related parameter that\n",
    "can be passed to ``FMUFunction``. This parameter is useless if the FMU is\n",
    "really time-independent (like this example); yet it can be come in use if the\n",
    "FMU requires time to converge.\n",
    "\n"
   ]
  },
  {
   "cell_type": "code",
   "execution_count": null,
   "metadata": {
    "collapsed": false
   },
   "outputs": [],
   "source": [
    "function = otfmi.FMUFunction(\n",
    "    path_fmu, inputs_fmu=[\"E\", \"I\"], outputs_fmu=[\"y\"], final_time=50.0\n",
    ")\n",
    "\n",
    "inputPoint = ot.Point([2e9, 7e7])\n",
    "outputPoint = function(inputPoint)\n",
    "print(outputPoint)"
   ]
  },
  {
   "cell_type": "markdown",
   "metadata": {},
   "source": [
    "To set more parameters for the FMU simulation, ``OpenTURNSFMUFunction`` can be\n",
    "employed. Below, we set the start time for the simulation, the PyFMI algorithm\n",
    "running the simulation, and require simulation silent mode.\n",
    "\n"
   ]
  },
  {
   "cell_type": "code",
   "execution_count": null,
   "metadata": {
    "collapsed": false
   },
   "outputs": [],
   "source": [
    "midlevel_function = otfmi.OpenTURNSFMUFunction(\n",
    "    path_fmu, inputs_fmu=[\"E\", \"I\"], outputs_fmu=[\"y\"]\n",
    ")\n",
    "\n",
    "outputPoint = midlevel_function.simulate(\n",
    "    inputPoint, start_time=10.0, algorithm=\"FMICSAlg\", options={\"silent_mode\": True}\n",
    ")"
   ]
  },
  {
   "cell_type": "markdown",
   "metadata": {},
   "source": [
    "For advanced users, the middle-level class ``OpenTURNSFMUFunction`` also gives\n",
    "access to the PyFMI model. We can hence access all PyFMI's object methods:\n",
    "\n"
   ]
  },
  {
   "cell_type": "code",
   "execution_count": null,
   "metadata": {
    "collapsed": false
   },
   "outputs": [],
   "source": [
    "pyfmi_model = midlevel_function.model\n",
    "print(dir(pyfmi_model))"
   ]
  },
  {
   "cell_type": "markdown",
   "metadata": {},
   "source": [
    "<div class=\"alert alert-info\"><h4>Note</h4><p>Otfmi' classes ``FMUFunction`` and ``OpenTURNSFMUFunction`` are designed to\n",
    "   highlight the most useful PyFMI's methods and simplify their use!</p></div>\n",
    "\n"
   ]
  }
 ],
 "metadata": {
  "kernelspec": {
   "display_name": "Python 3",
   "language": "python",
   "name": "python3"
  },
  "language_info": {
   "codemirror_mode": {
    "name": "ipython",
    "version": 3
   },
   "file_extension": ".py",
   "mimetype": "text/x-python",
   "name": "python",
   "nbconvert_exporter": "python",
   "pygments_lexer": "ipython3",
   "version": "3.12.4"
  }
 },
 "nbformat": 4,
 "nbformat_minor": 0
}