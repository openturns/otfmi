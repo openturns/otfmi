{
 "cells": [
  {
   "cell_type": "markdown",
   "metadata": {},
   "source": [
    "\n",
    "# Initialize FMUFunction\n"
   ]
  },
  {
   "cell_type": "markdown",
   "metadata": {},
   "source": [
    "The interest of using FMUs in Python lies in the ease to change its input\n",
    "/ parameter values. This notably enables to study the behavior of the FMU\n",
    "with uncertain inputs / parameters.\n",
    "\n"
   ]
  },
  {
   "cell_type": "markdown",
   "metadata": {},
   "source": [
    "Initialization scripts can gather a large number of initial values.\n",
    "The use of initialization scripts (*.mos* files) is common in Dymola :\n",
    "\n",
    "- to save the value of all the variables of a model after simulation,\n",
    "- to restart simulation from a given point.\n",
    "\n"
   ]
  },
  {
   "cell_type": "markdown",
   "metadata": {},
   "source": [
    "------------\n",
    "\n"
   ]
  },
  {
   "cell_type": "markdown",
   "metadata": {},
   "source": [
    "First, retrieve the path to the FMU *deviation.fmu*.\n",
    "Recall the deviation model is static, i.e. its output does not evolve over\n",
    "time.\n",
    "\n"
   ]
  },
  {
   "cell_type": "code",
   "execution_count": 1,
   "metadata": {
    "collapsed": false
   },
   "outputs": [
    {
     "ename": "ModuleNotFoundError",
     "evalue": "No module named 'otfmi.example'",
     "output_type": "error",
     "traceback": [
      "\u001b[0;31m---------------------------------------------------------------------------\u001b[0m",
      "\u001b[0;31mModuleNotFoundError\u001b[0m                       Traceback (most recent call last)",
      "Cell \u001b[0;32mIn[1], line 3\u001b[0m\n\u001b[1;32m      1\u001b[0m \u001b[38;5;28;01mimport\u001b[39;00m \u001b[38;5;21;01mopenturns\u001b[39;00m \u001b[38;5;28;01mas\u001b[39;00m \u001b[38;5;21;01mot\u001b[39;00m\n\u001b[1;32m      2\u001b[0m \u001b[38;5;28;01mfrom\u001b[39;00m \u001b[38;5;21;01mos\u001b[39;00m\u001b[38;5;21;01m.\u001b[39;00m\u001b[38;5;21;01mpath\u001b[39;00m \u001b[38;5;28;01mimport\u001b[39;00m abspath\n\u001b[0;32m----> 3\u001b[0m \u001b[38;5;28;01mimport\u001b[39;00m \u001b[38;5;21;01motfmi\u001b[39;00m\u001b[38;5;21;01m.\u001b[39;00m\u001b[38;5;21;01mexample\u001b[39;00m\u001b[38;5;21;01m.\u001b[39;00m\u001b[38;5;21;01mutility\u001b[39;00m\n\u001b[1;32m      4\u001b[0m \u001b[38;5;28;01mimport\u001b[39;00m \u001b[38;5;21;01motfmi\u001b[39;00m\n\u001b[1;32m      5\u001b[0m \u001b[38;5;28;01mimport\u001b[39;00m \u001b[38;5;21;01mopenturns\u001b[39;00m\u001b[38;5;21;01m.\u001b[39;00m\u001b[38;5;21;01mviewer\u001b[39;00m \u001b[38;5;28;01mas\u001b[39;00m \u001b[38;5;21;01mviewer\u001b[39;00m\n",
      "\u001b[0;31mModuleNotFoundError\u001b[0m: No module named 'otfmi.example'"
     ]
    }
   ],
   "source": [
    "import openturns as ot\n",
    "from os.path import abspath\n",
    "import otfmi.example.utility\n",
    "import otfmi\n",
    "import openturns.viewer as viewer\n",
    "\n",
    "path_fmu = otfmi.example.utility.get_path_fmu(\"deviation\")"
   ]
  },
  {
   "cell_type": "markdown",
   "metadata": {},
   "source": [
    "The initialization script must be provided to `FMUFunction` constructor.\n",
    "We thus create it now (using Python for clarity).\n",
    "\n"
   ]
  },
  {
   "cell_type": "markdown",
   "metadata": {},
   "source": [
    "<div class=\"alert alert-info\"><h4>Note</h4><p>The initialization script can be automatically created in Dymola.</p></div>\n",
    "\n"
   ]
  },
  {
   "cell_type": "code",
   "execution_count": null,
   "metadata": {
    "collapsed": false
   },
   "outputs": [],
   "source": [
    "temporary_file = \"initialization.mos\"\n",
    "with open(temporary_file, \"w\") as f:\n",
    "    f.write(\"L = 300;\\n\")\n",
    "    f.write(\"F = 25000;\\n\")"
   ]
  },
  {
   "cell_type": "markdown",
   "metadata": {},
   "source": [
    "If no initial value is provided for an input / parameter, it is set to its\n",
    "default initial value (as set in the FMU).\n",
    "\n"
   ]
  },
  {
   "cell_type": "markdown",
   "metadata": {},
   "source": [
    "We can now build the `FMUFunction`. In the example below, we use the\n",
    "initialization script to fix the values of ``L`` and ``F`` in the FMU whereas\n",
    "``E`` and ``I`` are the function variables.\n",
    "\n"
   ]
  },
  {
   "cell_type": "code",
   "execution_count": null,
   "metadata": {
    "collapsed": false
   },
   "outputs": [],
   "source": [
    "function = otfmi.FMUFunction(\n",
    "    path_fmu,\n",
    "    inputs_fmu=[\"E\", \"I\"],\n",
    "    outputs_fmu=[\"y\"],\n",
    "    initialization_script=abspath(\"initialization.mos\"),\n",
    ")\n",
    "\n",
    "inputPoint = ot.Point([2e9, 7e7])\n",
    "outputPoint = function(inputPoint)\n",
    "print(outputPoint)"
   ]
  },
  {
   "cell_type": "markdown",
   "metadata": {},
   "source": [
    "<div class=\"alert alert-info\"><h4>Note</h4><p>It is possible to set the value of a  model input in the\n",
    "   initialization script *and* use it as a function input variable. In this\n",
    "   case, the initial value from the initialization script is overriden.</p></div>\n",
    "\n"
   ]
  },
  {
   "cell_type": "markdown",
   "metadata": {},
   "source": [
    "For instance, we consider the 4 model parameters as variables. Note the\n",
    "result is different from above, as the input point overrides the values from\n",
    "the initialization script.\n",
    "\n"
   ]
  },
  {
   "cell_type": "code",
   "execution_count": null,
   "metadata": {
    "collapsed": false
   },
   "outputs": [],
   "source": [
    "smallExampleFunction = otfmi.FMUFunction(\n",
    "    path_fmu,\n",
    "    inputs_fmu=[\"E\", \"F\", \"L\", \"I\"],\n",
    "    outputs_fmu=[\"y\"],\n",
    "    initialization_script=abspath(\"initialization.mos\"),\n",
    ")\n",
    "\n",
    "inputPoint = ot.Point([2e9, 2e4, 800, 7e7])\n",
    "outputPoint = smallExampleFunction(inputPoint)\n",
    "print(outputPoint)"
   ]
  },
  {
   "cell_type": "markdown",
   "metadata": {},
   "source": [
    "Come back to the function with 2 input variables defined above.\n",
    "``F`` and ``L`` initial values are defined in the initialization script, and\n",
    "remain constant over time. We can now set probability laws on the function\n",
    "input variables ``E`` and ``I`` to propagate their uncertainty through the\n",
    "model:\n",
    "\n"
   ]
  },
  {
   "cell_type": "code",
   "execution_count": null,
   "metadata": {
    "collapsed": false
   },
   "outputs": [],
   "source": [
    "lawE = ot.Uniform(65e9, 75e9)\n",
    "lawI = ot.Uniform(1.3e7, 1.7e7)\n",
    "dist = ot.ComposedDistribution([lawE, lawI])\n",
    "inputSample = dist.getSample(10)\n",
    "\n",
    "outputSample = function(inputSample)\n",
    "\n",
    "graph = ot.HistogramFactory().build(outputSample).drawPDF()\n",
    "view = viewer.View(graph)\n",
    "view.ShowAll()"
   ]
  }
 ],
 "metadata": {
  "kernelspec": {
   "display_name": "Python 3",
   "language": "python",
   "name": "python3"
  },
  "language_info": {
   "codemirror_mode": {
    "name": "ipython",
    "version": 3
   },
   "file_extension": ".py",
   "mimetype": "text/x-python",
   "name": "python",
   "nbconvert_exporter": "python",
   "pygments_lexer": "ipython3",
   "version": "3.12.4"
  }
 },
 "nbformat": 4,
 "nbformat_minor": 0
}