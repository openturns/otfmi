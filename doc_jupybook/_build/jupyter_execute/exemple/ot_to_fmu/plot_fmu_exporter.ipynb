{
 "cells": [
  {
   "cell_type": "markdown",
   "metadata": {},
   "source": [
    "\n",
    "# Export a function as FMU\n"
   ]
  },
  {
   "cell_type": "markdown",
   "metadata": {},
   "source": [
    "``otfmi.FunctionExporter`` enables to export OpenTURNS functions as FMUs. The\n",
    "main interest of this class is to use OpenTURNS metamodels in a simulation environment.\n",
    "\n",
    "Currently, the inclusion of a metamodel in\n",
    "[OpenModelica GUI](https://openmodelica.org/?id=78:omconnectioneditoromedit&catid=10:main-category)\n",
    "has been performed once (see\n",
    "[this paper](https://www.researchgate.net/publication/354810878_Analysis_and_reduction_of_models_using_Persalys)).\n",
    "\n"
   ]
  },
  {
   "cell_type": "markdown",
   "metadata": {},
   "source": [
    "------------\n",
    "\n",
    "## FMU generation\n",
    "\n",
    "First, we create the OpenTURNS function to export as FMU.\n",
    "This example being solely a demonstrator, we consider a very simple\n",
    "exponential function.\n",
    "\n"
   ]
  },
  {
   "cell_type": "code",
   "execution_count": 1,
   "metadata": {
    "collapsed": false
   },
   "outputs": [
    {
     "name": "stdout",
     "output_type": "stream",
     "text": [
      "[7.38906]\n"
     ]
    }
   ],
   "source": [
    "import openturns as ot\n",
    "import otfmi\n",
    "import tempfile\n",
    "from os.path import join\n",
    "\n",
    "func = ot.SymbolicFunction([\"x\"], [\"exp(x)\"])\n",
    "inputPoint = [2.0]\n",
    "print(func(inputPoint))"
   ]
  },
  {
   "cell_type": "markdown",
   "metadata": {},
   "source": [
    "We create the FMU constructor and the folder in which save the FMU:\n",
    "\n"
   ]
  },
  {
   "cell_type": "code",
   "execution_count": 2,
   "metadata": {
    "collapsed": false
   },
   "outputs": [
    {
     "name": "stdout",
     "output_type": "stream",
     "text": [
      "/tmp/tmp41nhtkx_/myExponential.fmu\n"
     ]
    }
   ],
   "source": [
    "fmuExporter = otfmi.FunctionExporter(func)\n",
    "fmu_path = join(tempfile.mkdtemp(), \"myExponential.fmu\")\n",
    "print(fmu_path)"
   ]
  },
  {
   "cell_type": "markdown",
   "metadata": {},
   "source": [
    "We export the OpenTURNS function as a Model Exchange FMU.\n",
    "The counterpart is to export as CoSimulation FMU (embeds a solver).\n",
    "Another option would be to export the function via pythonfmu (see the \"mode\" keyword)\n",
    "allowing export of temporal functions (not a concern here for our function).\n",
    "\n"
   ]
  },
  {
   "cell_type": "code",
   "execution_count": 3,
   "metadata": {
    "collapsed": false
   },
   "outputs": [
    {
     "name": "stdout",
     "output_type": "stream",
     "text": [
      "OpenModelica 1.23.1\n"
     ]
    }
   ],
   "source": [
    "fmuExporter.export_fmu(fmu_path, fmuType=\"me\")"
   ]
  },
  {
   "cell_type": "markdown",
   "metadata": {},
   "source": [
    "<div class=\"alert alert-info\"><h4>Note</h4><p>The export requires [CMake](https://cmake.org/) build system, a C compiler (Visual Studio or\n",
    "  GCC for instance), and the OpenModelica compiler\n",
    "  [OMC](https://www.openmodelica.org/?id=51:open-modelica-compiler-omccecatid=10:main-category).</p></div>\n",
    "\n"
   ]
  },
  {
   "cell_type": "markdown",
   "metadata": {},
   "source": [
    "Simple as it looks, this function actually does the following :\n",
    "\n",
    "- write a C-wrapper for the OpenTURNS function,\n",
    "- write a Modelica model calling the C-wrapper as [External](shorturl.at/fhCU2) function,\n",
    "- export the Modelica model as FMU using OpenModelica compiler.\n",
    "\n",
    "<div class=\"alert alert-info\"><h4>Note</h4><p>To retrieve only the Modelica model, see :doc:`here <plot_model_exporter>`.</p></div>\n",
    "\n",
    "<div class=\"alert alert-danger\"><h4>Warning</h4><p>The path to the C-wrapper is hard-coded in the model & in the FMU.</p></div>\n",
    "\n",
    "----------------------\n",
    "\n",
    "## FMU validation\n",
    "\n",
    "We import the in OpenModelica GUI. We connect the wrapper to an input sine signal\n",
    "(*Modelica.Blocks.Sources.Sine*) and to an output block (*Modelica.Blocks.Interfaces.RealOutput*):\n",
    "\n",
    "<img src=\"file://_static/TestMyExponentialFMU.png\" width=\"132px\" height=\"126px\" scale=\"100 %\" alt=\"alternate text\" align=\"center\">\n",
    "\n",
    "We simulate the model on 1 second, with 50 time steps. We can verify that `y`\n",
    "output corresponds to the exponential of the sine signal.\n",
    "\n",
    "<img src=\"file://_static/show_output.png\" width=\"132px\" height=\"126px\" scale=\"100 %\" alt=\"alternate text\" align=\"center\">\n",
    "\n",
    "<div class=\"alert alert-danger\"><h4>Warning</h4><p>Compared to native Modelica functions, the included OpenTURNS function is\n",
    "   slow. Using the FMU, 11 seconds of simulation were required for 50 time\n",
    "   steps (i.e. 50 function calls).</p></div>\n",
    "\n"
   ]
  }
 ],
 "metadata": {
  "kernelspec": {
   "display_name": "Python 3",
   "language": "python",
   "name": "python3"
  },
  "language_info": {
   "codemirror_mode": {
    "name": "ipython",
    "version": 3
   },
   "file_extension": ".py",
   "mimetype": "text/x-python",
   "name": "python",
   "nbconvert_exporter": "python",
   "pygments_lexer": "ipython3",
   "version": "3.12.4"
  }
 },
 "nbformat": 4,
 "nbformat_minor": 0
}