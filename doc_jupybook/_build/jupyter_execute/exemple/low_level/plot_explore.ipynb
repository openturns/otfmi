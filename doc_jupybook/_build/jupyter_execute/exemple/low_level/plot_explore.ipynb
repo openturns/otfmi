{
 "cells": [
  {
   "cell_type": "markdown",
   "metadata": {},
   "source": [
    "\n",
    "# Explore the FMU\n"
   ]
  },
  {
   "cell_type": "markdown",
   "metadata": {},
   "source": [
    "| Knowledge about the FMU is necessary to setup a probabilistic approach:\n",
    "| - What is the name of the FMU variables ?\n",
    "| - Which are the inputs, outputs, parameters ?\n",
    "| - Which are booleans, reals, integers ?\n",
    "| - What is their default start value ?\n",
    "\n"
   ]
  },
  {
   "cell_type": "markdown",
   "metadata": {},
   "source": [
    "First, retrieve and load the FMU *deviation.fmu*.\n",
    "\n"
   ]
  },
  {
   "cell_type": "code",
   "execution_count": 1,
   "metadata": {
    "collapsed": false
   },
   "outputs": [
    {
     "ename": "ModuleNotFoundError",
     "evalue": "No module named 'otfmi.example'",
     "output_type": "error",
     "traceback": [
      "\u001b[0;31m---------------------------------------------------------------------------\u001b[0m",
      "\u001b[0;31mModuleNotFoundError\u001b[0m                       Traceback (most recent call last)",
      "Cell \u001b[0;32mIn[1], line 1\u001b[0m\n\u001b[0;32m----> 1\u001b[0m \u001b[38;5;28;01mimport\u001b[39;00m \u001b[38;5;21;01motfmi\u001b[39;00m\u001b[38;5;21;01m.\u001b[39;00m\u001b[38;5;21;01mexample\u001b[39;00m\u001b[38;5;21;01m.\u001b[39;00m\u001b[38;5;21;01mutility\u001b[39;00m\n\u001b[1;32m      3\u001b[0m path_fmu \u001b[38;5;241m=\u001b[39m otfmi\u001b[38;5;241m.\u001b[39mexample\u001b[38;5;241m.\u001b[39mutility\u001b[38;5;241m.\u001b[39mget_path_fmu(\u001b[38;5;124m\"\u001b[39m\u001b[38;5;124mdeviation\u001b[39m\u001b[38;5;124m\"\u001b[39m)\n\u001b[1;32m      4\u001b[0m model \u001b[38;5;241m=\u001b[39m otfmi\u001b[38;5;241m.\u001b[39mfmi\u001b[38;5;241m.\u001b[39mload_fmu(path_fmu)\n",
      "\u001b[0;31mModuleNotFoundError\u001b[0m: No module named 'otfmi.example'"
     ]
    }
   ],
   "source": [
    "import otfmi.example.utility\n",
    "\n",
    "path_fmu = otfmi.example.utility.get_path_fmu(\"deviation\")\n",
    "model = otfmi.fmi.load_fmu(path_fmu)"
   ]
  },
  {
   "cell_type": "markdown",
   "metadata": {},
   "source": [
    "Let require the FMU variables names:\n",
    "\n"
   ]
  },
  {
   "cell_type": "code",
   "execution_count": null,
   "metadata": {
    "collapsed": false
   },
   "outputs": [],
   "source": [
    "list_name = otfmi.fmi.get_name_variable(model)\n",
    "print(list_name)"
   ]
  },
  {
   "cell_type": "markdown",
   "metadata": {},
   "source": [
    "| This command shows all variables : inputs, parameters, outputs.\n",
    "| Let identify their causality in the model:\n",
    "\n"
   ]
  },
  {
   "cell_type": "code",
   "execution_count": null,
   "metadata": {
    "collapsed": false
   },
   "outputs": [],
   "source": [
    "for name in list_name:\n",
    "    causality = otfmi.fmi.get_causality_str(model, name)\n",
    "    print(\"{}: {}\".format(name, causality))"
   ]
  },
  {
   "cell_type": "markdown",
   "metadata": {},
   "source": [
    "| Yet the variables type is not known: real, integer, boolean, string?\n",
    "| Let check using [PyFMI's method](http://shorturl.at/dJ157):\n",
    "\n"
   ]
  },
  {
   "cell_type": "code",
   "execution_count": null,
   "metadata": {
    "collapsed": false
   },
   "outputs": [],
   "source": [
    "for name in list_name:\n",
    "    typ = model.get_variable_data_type(name)\n",
    "    print(\"{}: {}\".format(name, typ))"
   ]
  },
  {
   "cell_type": "markdown",
   "metadata": {},
   "source": [
    "| The type `0` corresponds to `Real` (aka \"float\") variables.\n",
    "| Let check the variables default start value in the FMU:\n",
    "\n"
   ]
  },
  {
   "cell_type": "code",
   "execution_count": null,
   "metadata": {
    "collapsed": false
   },
   "outputs": [],
   "source": [
    "dict_start_value = otfmi.fmi.get_start_value(model)\n",
    "print(dict_start_value)"
   ]
  },
  {
   "cell_type": "markdown",
   "metadata": {},
   "source": [
    "<div class=\"alert alert-info\"><h4>Note</h4><p>Function `otfmi.fmi.get_start_value` only returns the start value of\n",
    "   variables with types Real, Integer or Boolean.</p></div>\n",
    "\n"
   ]
  },
  {
   "cell_type": "markdown",
   "metadata": {},
   "source": [
    "With this knowledge on the FMU variables, we can now simulate it (with\n",
    "non-default initialization values if required).\n",
    "\n"
   ]
  }
 ],
 "metadata": {
  "kernelspec": {
   "display_name": "Python 3",
   "language": "python",
   "name": "python3"
  },
  "language_info": {
   "codemirror_mode": {
    "name": "ipython",
    "version": 3
   },
   "file_extension": ".py",
   "mimetype": "text/x-python",
   "name": "python",
   "nbconvert_exporter": "python",
   "pygments_lexer": "ipython3",
   "version": "3.12.4"
  }
 },
 "nbformat": 4,
 "nbformat_minor": 0
}