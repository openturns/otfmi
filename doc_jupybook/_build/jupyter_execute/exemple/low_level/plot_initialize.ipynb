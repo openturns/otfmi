{
 "cells": [
  {
   "cell_type": "markdown",
   "metadata": {},
   "source": [
    "\n",
    "# Initialize an FMU with non-default values\n"
   ]
  },
  {
   "cell_type": "markdown",
   "metadata": {},
   "source": [
    "The interest of using FMUs in Python lies in the ease to change its input\n",
    "/ parameter values. This notably enables to study the behavior of the FMU\n",
    "with uncertain inputs / parameters.\n",
    "\n"
   ]
  },
  {
   "cell_type": "markdown",
   "metadata": {},
   "source": [
    "<div class=\"alert alert-info\"><h4>Note</h4><p>| A FMU *parameter* remains constant during simulation (a single value).\n",
    "   | A FMU *input* evolves during simulation (time-dependent values).\n",
    "   | See the [FMI Standard](http://shorturl.at/kpJR5) for more details.</p></div>\n",
    "\n"
   ]
  },
  {
   "cell_type": "markdown",
   "metadata": {},
   "source": [
    "First, retrieve and load the FMU *deviation.fmu*.\n",
    "\n",
    "\n"
   ]
  },
  {
   "cell_type": "code",
   "execution_count": 1,
   "metadata": {
    "collapsed": false
   },
   "outputs": [
    {
     "ename": "ModuleNotFoundError",
     "evalue": "No module named 'otfmi.example'",
     "output_type": "error",
     "traceback": [
      "\u001b[0;31m---------------------------------------------------------------------------\u001b[0m",
      "\u001b[0;31mModuleNotFoundError\u001b[0m                       Traceback (most recent call last)",
      "Cell \u001b[0;32mIn[1], line 1\u001b[0m\n\u001b[0;32m----> 1\u001b[0m \u001b[38;5;28;01mimport\u001b[39;00m \u001b[38;5;21;01motfmi\u001b[39;00m\u001b[38;5;21;01m.\u001b[39;00m\u001b[38;5;21;01mexample\u001b[39;00m\u001b[38;5;21;01m.\u001b[39;00m\u001b[38;5;21;01mutility\u001b[39;00m\n\u001b[1;32m      2\u001b[0m \u001b[38;5;28;01mfrom\u001b[39;00m \u001b[38;5;21;01mos\u001b[39;00m\u001b[38;5;21;01m.\u001b[39;00m\u001b[38;5;21;01mpath\u001b[39;00m \u001b[38;5;28;01mimport\u001b[39;00m abspath\n\u001b[1;32m      4\u001b[0m path_fmu \u001b[38;5;241m=\u001b[39m otfmi\u001b[38;5;241m.\u001b[39mexample\u001b[38;5;241m.\u001b[39mutility\u001b[38;5;241m.\u001b[39mget_path_fmu(\u001b[38;5;124m\"\u001b[39m\u001b[38;5;124mdeviation\u001b[39m\u001b[38;5;124m\"\u001b[39m)\n",
      "\u001b[0;31mModuleNotFoundError\u001b[0m: No module named 'otfmi.example'"
     ]
    }
   ],
   "source": [
    "import otfmi.example.utility\n",
    "from os.path import abspath\n",
    "\n",
    "path_fmu = otfmi.example.utility.get_path_fmu(\"deviation\")\n",
    "model = otfmi.fmi.load_fmu(path_fmu)\n",
    "\n",
    "# check the beam default length and bending load values\n",
    "print(model.get_variable_start(\"L\"))\n",
    "print(model.get_variable_start(\"F\"))"
   ]
  },
  {
   "cell_type": "markdown",
   "metadata": {},
   "source": [
    "We want to set the cantilever beam length to 300 m and the bending load to\n",
    "25000 N.\n",
    "\n"
   ]
  },
  {
   "cell_type": "markdown",
   "metadata": {},
   "source": [
    "## Using inline argument\n",
    "\n"
   ]
  },
  {
   "cell_type": "markdown",
   "metadata": {},
   "source": [
    "The beam length can be required directly in the ``simulate`` function:\n",
    "\n"
   ]
  },
  {
   "cell_type": "code",
   "execution_count": null,
   "metadata": {
    "collapsed": false
   },
   "outputs": [],
   "source": [
    "result = otfmi.fmi.simulate(model, initialization_parameters=[(\"L\", \"F\"), (300, 25000)])\n",
    "\n",
    "# check parameters value and show output value\n",
    "print(\"L = %g\" % result.final(\"L\"))  # check parameter value\n",
    "print(\"F = %g\" % result.final(\"F\"))  # check parameter value\n",
    "print(\"y = %g\" % result.final(\"y\"))  # print output value"
   ]
  },
  {
   "cell_type": "markdown",
   "metadata": {},
   "source": [
    "This way of doing is practical when only a few number of parameters / inputs\n",
    "must be set. For larger numbers of variables to initialize, the use of scripts\n",
    "is recommended.\n",
    "\n"
   ]
  },
  {
   "cell_type": "markdown",
   "metadata": {},
   "source": [
    "## Using initialization scripts\n",
    "\n"
   ]
  },
  {
   "cell_type": "markdown",
   "metadata": {},
   "source": [
    "Initialization scripts can gather a large number of initial values.\n",
    "The use of initialization scripts (*.mos* files) is common in Dymola:\n",
    "- to save the value of all the variables of a model after simulation,\n",
    "- to restart simulation from a given point.\n",
    "\n"
   ]
  },
  {
   "cell_type": "markdown",
   "metadata": {},
   "source": [
    "<div class=\"alert alert-info\"><h4>Note</h4><p>The initialization script can be automatically created in Dymola.</p></div>\n",
    "\n"
   ]
  },
  {
   "cell_type": "markdown",
   "metadata": {},
   "source": [
    "For clarity, we write the initialization script using Python.\n",
    "\n"
   ]
  },
  {
   "cell_type": "code",
   "execution_count": null,
   "metadata": {
    "collapsed": false
   },
   "outputs": [],
   "source": [
    "temporary_file = \"initialization.mos\"\n",
    "with open(temporary_file, \"w\") as f:\n",
    "    f.write(\"L = 300;\\n\")\n",
    "    f.write(\"F = 25000;\\n\")"
   ]
  },
  {
   "cell_type": "markdown",
   "metadata": {},
   "source": [
    "Otfmi ``simulate`` function launches FMU initialization, using the\n",
    "designated script, then simulates the FMU.\n",
    "\n"
   ]
  },
  {
   "cell_type": "code",
   "execution_count": null,
   "metadata": {
    "collapsed": false
   },
   "outputs": [],
   "source": [
    "result = otfmi.fmi.simulate(model, initialization_script=abspath(temporary_file))\n",
    "\n",
    "# check parameters value and show output value\n",
    "print(\"L = %g\" % result.final(\"L\"))  # check parameter value\n",
    "print(\"F = %g\" % result.final(\"F\"))  # check parameter value\n",
    "print(\"y = %g\" % result.final(\"y\"))  # print output value"
   ]
  }
 ],
 "metadata": {
  "kernelspec": {
   "display_name": "Python 3",
   "language": "python",
   "name": "python3"
  },
  "language_info": {
   "codemirror_mode": {
    "name": "ipython",
    "version": 3
   },
   "file_extension": ".py",
   "mimetype": "text/x-python",
   "name": "python",
   "nbconvert_exporter": "python",
   "pygments_lexer": "ipython3",
   "version": "3.12.4"
  }
 },
 "nbformat": 4,
 "nbformat_minor": 0
}