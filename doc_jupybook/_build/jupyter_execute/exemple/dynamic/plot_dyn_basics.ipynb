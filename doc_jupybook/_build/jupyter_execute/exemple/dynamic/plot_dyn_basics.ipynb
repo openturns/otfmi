{
 "cells": [
  {
   "cell_type": "markdown",
   "metadata": {},
   "source": [
    "\n",
    "# FMUPointToFieldFunction basics\n"
   ]
  },
  {
   "cell_type": "markdown",
   "metadata": {},
   "source": [
    "``otfmi.FMUPointToFieldFunction`` wraps the FMU into an\n",
    ":py:class:`openturns.PointToFieldFunction` object.\n",
    "This kind of function accepts :py:class:`openturns.Point` or\n",
    ":py:class:`openturns.Sample` as inputs, and outputs a\n",
    ":py:class:`openturns.Sample` or a set of :py:class:`openturns.Field`.\n",
    "\n"
   ]
  },
  {
   "cell_type": "markdown",
   "metadata": {},
   "source": [
    "------------\n",
    "\n"
   ]
  },
  {
   "cell_type": "markdown",
   "metadata": {},
   "source": [
    "First, retrieve the path to *epid.fmu*.\n",
    "Recall the deviation model is dynamic, i.e. its output evolves over\n",
    "time.\n",
    "\n"
   ]
  },
  {
   "cell_type": "code",
   "execution_count": 1,
   "metadata": {
    "collapsed": false
   },
   "outputs": [
    {
     "ename": "ModuleNotFoundError",
     "evalue": "No module named 'otfmi.example'",
     "output_type": "error",
     "traceback": [
      "\u001b[0;31m---------------------------------------------------------------------------\u001b[0m",
      "\u001b[0;31mModuleNotFoundError\u001b[0m                       Traceback (most recent call last)",
      "Cell \u001b[0;32mIn[1], line 2\u001b[0m\n\u001b[1;32m      1\u001b[0m \u001b[38;5;28;01mimport\u001b[39;00m \u001b[38;5;21;01mopenturns\u001b[39;00m \u001b[38;5;28;01mas\u001b[39;00m \u001b[38;5;21;01mot\u001b[39;00m\n\u001b[0;32m----> 2\u001b[0m \u001b[38;5;28;01mimport\u001b[39;00m \u001b[38;5;21;01motfmi\u001b[39;00m\u001b[38;5;21;01m.\u001b[39;00m\u001b[38;5;21;01mexample\u001b[39;00m\u001b[38;5;21;01m.\u001b[39;00m\u001b[38;5;21;01mutility\u001b[39;00m\n\u001b[1;32m      3\u001b[0m \u001b[38;5;28;01mimport\u001b[39;00m \u001b[38;5;21;01mmatplotlib\u001b[39;00m\u001b[38;5;21;01m.\u001b[39;00m\u001b[38;5;21;01mpyplot\u001b[39;00m \u001b[38;5;28;01mas\u001b[39;00m \u001b[38;5;21;01mplt\u001b[39;00m\n\u001b[1;32m      4\u001b[0m \u001b[38;5;28;01mimport\u001b[39;00m \u001b[38;5;21;01mopenturns\u001b[39;00m\u001b[38;5;21;01m.\u001b[39;00m\u001b[38;5;21;01mviewer\u001b[39;00m \u001b[38;5;28;01mas\u001b[39;00m \u001b[38;5;21;01mviewer\u001b[39;00m\n",
      "\u001b[0;31mModuleNotFoundError\u001b[0m: No module named 'otfmi.example'"
     ]
    }
   ],
   "source": [
    "import openturns as ot\n",
    "import otfmi.example.utility\n",
    "import matplotlib.pyplot as plt\n",
    "import openturns.viewer as viewer\n",
    "\n",
    "\n",
    "path_fmu = otfmi.example.utility.get_path_fmu(\"epid\")"
   ]
  },
  {
   "cell_type": "markdown",
   "metadata": {},
   "source": [
    "Define the time grid for the FMU's output. The last value of the time grid,\n",
    "here 10., will define the FMU stop time for simulation.\n",
    "\n"
   ]
  },
  {
   "cell_type": "code",
   "execution_count": null,
   "metadata": {
    "collapsed": false
   },
   "outputs": [],
   "source": [
    "mesh = ot.RegularGrid(0.0, 0.1, 100)\n",
    "meshSample = mesh.getVertices()\n",
    "print(meshSample)"
   ]
  },
  {
   "cell_type": "markdown",
   "metadata": {},
   "source": [
    "<div class=\"alert alert-info\"><h4>Note</h4><p>The FMU solver uses its own time grid for simulation.\n",
    "   The FMU output is then interpolated on the user-provided time grid.</p></div>\n",
    "\n"
   ]
  },
  {
   "cell_type": "markdown",
   "metadata": {},
   "source": [
    "Wrap the FMU in an :py:class:`openturns.PointToFieldFunction` object:\n",
    "\n"
   ]
  },
  {
   "cell_type": "code",
   "execution_count": null,
   "metadata": {
    "collapsed": false
   },
   "outputs": [],
   "source": [
    "function = otfmi.FMUPointToFieldFunction(\n",
    "    mesh,\n",
    "    path_fmu,\n",
    "    inputs_fmu=[\"infection_rate\"],\n",
    "    outputs_fmu=[\"infected\"],\n",
    "    start_time=0.0,\n",
    "    final_time=10.0,\n",
    ")\n",
    "print(type(function))"
   ]
  },
  {
   "cell_type": "markdown",
   "metadata": {},
   "source": [
    "<div class=\"alert alert-info\"><h4>Note</h4><p>The start and final times must define an interval comprising the mesh.\n",
    "   Setting manually the start and final times is recommended to avoid\n",
    "   uncontrolled simulation duration.</p></div>\n",
    "\n"
   ]
  },
  {
   "cell_type": "markdown",
   "metadata": {},
   "source": [
    "Simulate the function on an input :py:class:`openturns.Point` yields an output\n",
    ":py:class:`openturns.Sample`, corresponding to the output evolution over time:\n",
    "\n"
   ]
  },
  {
   "cell_type": "code",
   "execution_count": null,
   "metadata": {
    "collapsed": false
   },
   "outputs": [],
   "source": [
    "inputPoint = ot.Point([0.007])\n",
    "outputSample = function(inputPoint)\n",
    "\n",
    "plt.xlabel(\"FMU simulation time (s)\")\n",
    "plt.ylabel(\"Number of Infected\")\n",
    "plt.plot(meshSample, outputSample)\n",
    "plt.show()"
   ]
  },
  {
   "cell_type": "markdown",
   "metadata": {},
   "source": [
    "Simulate the function on a input :py:class:`openturns.Sample` yields a set of\n",
    "fields called :py:class:`openturns.ProcessSample`:\n",
    "\n"
   ]
  },
  {
   "cell_type": "code",
   "execution_count": null,
   "metadata": {
    "collapsed": false
   },
   "outputs": [],
   "source": [
    "inputSample = ot.Sample([[0.007], [0.005], [0.003]])\n",
    "outputProcessSample = function(inputSample)\n",
    "print(outputProcessSample)"
   ]
  },
  {
   "cell_type": "markdown",
   "metadata": {},
   "source": [
    "Visualize the time evolution of the ``infected`` over time, depending on the\n",
    "`ìnfection_rate`` value:\n",
    "\n"
   ]
  },
  {
   "cell_type": "code",
   "execution_count": null,
   "metadata": {
    "collapsed": false
   },
   "outputs": [],
   "source": [
    "gridLayout = outputProcessSample.draw()\n",
    "graph = gridLayout.getGraph(0, 0)\n",
    "graph.setTitle(\"\")\n",
    "graph.setXTitle(\"FMU simulation time (s)\")\n",
    "graph.setYTitle(\"Number of infected\")\n",
    "graph.setLegends([str(line[0]) for line in inputSample])\n",
    "view = viewer.View(graph, legend_kw={\"title\": \"infection rate\"})\n",
    "view.ShowAll()"
   ]
  }
 ],
 "metadata": {
  "kernelspec": {
   "display_name": "Python 3",
   "language": "python",
   "name": "python3"
  },
  "language_info": {
   "codemirror_mode": {
    "name": "ipython",
    "version": 3
   },
   "file_extension": ".py",
   "mimetype": "text/x-python",
   "name": "python",
   "nbconvert_exporter": "python",
   "pygments_lexer": "ipython3",
   "version": "3.12.4"
  }
 },
 "nbformat": 4,
 "nbformat_minor": 0
}