{
 "cells": [
  {
   "cell_type": "markdown",
   "metadata": {},
   "source": [
    "\n",
    "# Set FMU simulation parameters\n"
   ]
  },
  {
   "cell_type": "markdown",
   "metadata": {},
   "source": [
    "``FMUPointToFieldFunction`` is an OpenTURNS-friendly overlay of the class\n",
    "``ÒpenTURNSFMUPointToFieldFunction``, closer to the underlying PyFMI\n",
    "implementation.\n",
    "Some FMU simulation parameters can be given to ``FMUPointToFieldFunction``,\n",
    "yet most of them can only be passed to an\n",
    "``OpenTURNSFMUPointToFieldFunction``.\n",
    "\n"
   ]
  },
  {
   "cell_type": "markdown",
   "metadata": {},
   "source": [
    "------------\n",
    "\n"
   ]
  },
  {
   "cell_type": "markdown",
   "metadata": {},
   "source": [
    "First, retrieve the path to *epid.fmu*.\n",
    "Recall the deviation model is dynamic, i.e. its output evolves over\n",
    "time.\n",
    "\n"
   ]
  },
  {
   "cell_type": "code",
   "execution_count": 1,
   "metadata": {
    "collapsed": false
   },
   "outputs": [
    {
     "ename": "ModuleNotFoundError",
     "evalue": "No module named 'otfmi.example'",
     "output_type": "error",
     "traceback": [
      "\u001b[0;31m---------------------------------------------------------------------------\u001b[0m",
      "\u001b[0;31mModuleNotFoundError\u001b[0m                       Traceback (most recent call last)",
      "Cell \u001b[0;32mIn[1], line 1\u001b[0m\n\u001b[0;32m----> 1\u001b[0m \u001b[38;5;28;01mimport\u001b[39;00m \u001b[38;5;21;01motfmi\u001b[39;00m\u001b[38;5;21;01m.\u001b[39;00m\u001b[38;5;21;01mexample\u001b[39;00m\u001b[38;5;21;01m.\u001b[39;00m\u001b[38;5;21;01mutility\u001b[39;00m\n\u001b[1;32m      2\u001b[0m \u001b[38;5;28;01mimport\u001b[39;00m \u001b[38;5;21;01mopenturns\u001b[39;00m \u001b[38;5;28;01mas\u001b[39;00m \u001b[38;5;21;01mot\u001b[39;00m\n\u001b[1;32m      4\u001b[0m path_fmu \u001b[38;5;241m=\u001b[39m otfmi\u001b[38;5;241m.\u001b[39mexample\u001b[38;5;241m.\u001b[39mutility\u001b[38;5;241m.\u001b[39mget_path_fmu(\u001b[38;5;124m\"\u001b[39m\u001b[38;5;124mepid\u001b[39m\u001b[38;5;124m\"\u001b[39m)\n",
      "\u001b[0;31mModuleNotFoundError\u001b[0m: No module named 'otfmi.example'"
     ]
    }
   ],
   "source": [
    "import otfmi.example.utility\n",
    "import openturns as ot\n",
    "\n",
    "path_fmu = otfmi.example.utility.get_path_fmu(\"epid\")"
   ]
  },
  {
   "cell_type": "markdown",
   "metadata": {},
   "source": [
    "The FMU simulation start and final times are the only simulation-related\n",
    "parameter that can be passed to ``FMUPointToFieldFunction``.\n",
    "\n"
   ]
  },
  {
   "cell_type": "code",
   "execution_count": null,
   "metadata": {
    "collapsed": false
   },
   "outputs": [],
   "source": [
    "mesh = ot.RegularGrid(0.0, 0.1, 20)\n",
    "\n",
    "function = otfmi.FMUPointToFieldFunction(\n",
    "    mesh,\n",
    "    path_fmu,\n",
    "    inputs_fmu=[\"infection_rate\", \"healing_rate\"],\n",
    "    outputs_fmu=[\"infected\"],\n",
    "    start_time=0.0,\n",
    "    final_time=2.0,\n",
    ")\n",
    "\n",
    "inputPoint = ot.Point([0.007, 0.02])\n",
    "outputSample = function(inputPoint)\n",
    "print(outputSample)"
   ]
  },
  {
   "cell_type": "markdown",
   "metadata": {},
   "source": [
    "To set more parameters for the FMU simulation,\n",
    "``OpenTURNSFMUPointToFieldFunction`` can be employed. Below, we set the PyFMI\n",
    "algorithm running the simulation, and require simulation silent mode.\n",
    "\n"
   ]
  },
  {
   "cell_type": "code",
   "execution_count": null,
   "metadata": {
    "collapsed": false
   },
   "outputs": [],
   "source": [
    "midlevel_function = otfmi.OpenTURNSFMUPointToFieldFunction(\n",
    "    mesh,\n",
    "    path_fmu,\n",
    "    inputs_fmu=[\"infection_rate\", \"healing_rate\"],\n",
    "    outputs_fmu=[\"infected\"],\n",
    "    start_time=0.0,\n",
    "    final_time=2.0,\n",
    ")\n",
    "\n",
    "outputPoint = midlevel_function.simulate(\n",
    "    inputPoint, algorithm=\"FMICSAlg\", options={\"silent_mode\": True}\n",
    ")"
   ]
  },
  {
   "cell_type": "markdown",
   "metadata": {},
   "source": [
    "For advanced users, the middle-level class ``OpenTURNSFMUFunction`` also gives\n",
    "access to the PyFMI model. We can hence access all PyFMI's object methods:\n",
    "\n"
   ]
  },
  {
   "cell_type": "code",
   "execution_count": null,
   "metadata": {
    "collapsed": false
   },
   "outputs": [],
   "source": [
    "pyfmi_model = midlevel_function.model\n",
    "print(dir(pyfmi_model))"
   ]
  },
  {
   "cell_type": "markdown",
   "metadata": {},
   "source": [
    "<div class=\"alert alert-info\"><h4>Note</h4><p>Otfmi' classes ``FMUPointToFieldFunction`` and ``OpenTURNSFMUPointToFieldFunction``\n",
    "   are designed to highlight the most useful PyFMI's methods and simplify their use!</p></div>\n",
    "\n"
   ]
  }
 ],
 "metadata": {
  "kernelspec": {
   "display_name": "Python 3",
   "language": "python",
   "name": "python3"
  },
  "language_info": {
   "codemirror_mode": {
    "name": "ipython",
    "version": 3
   },
   "file_extension": ".py",
   "mimetype": "text/x-python",
   "name": "python",
   "nbconvert_exporter": "python",
   "pygments_lexer": "ipython3",
   "version": "3.12.4"
  }
 },
 "nbformat": 4,
 "nbformat_minor": 0
}